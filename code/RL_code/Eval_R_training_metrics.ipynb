{
 "cells": [
  {
   "cell_type": "code",
   "execution_count": null,
   "metadata": {
    "vscode": {
     "languageId": "r"
    }
   },
   "outputs": [],
   "source": [
    "library(tidyverse)\n",
    "library(lubridate)"
   ]
  },
  {
   "cell_type": "code",
   "execution_count": null,
   "metadata": {
    "vscode": {
     "languageId": "r"
    }
   },
   "outputs": [],
   "source": [
    "# Physician WDR/WIS performance on the dataset of this experiment (get it from Eval DQN script)\n",
    "train_phy_WDR = 2.2539\n",
    "train_phy_WIS = 1.8684\n",
    "val_phy_WDR   = 2.0796\n",
    "val_phy_WIS   = 1.8388\n",
    "test_phy_WDR  = 3.7183\n",
    "test_phy_WIS  = 1.8067\n",
    "exp_name = 'ess_b32_h128_lr1e4_g99'\n",
    "#model_performance_name = 'performance/lucspace_1_performance.csv'\n",
    "\n",
    "model_performance_name = paste0('../performance/' ,exp_name,'_1_performance.csv')\n",
    "modelconfigfile = paste0('../models/' , exp_name , '_1_model_config.csv')\n",
    "finalmodelfile = paste0( '../models/' , exp_name , '_1_model.chk')\n",
    "tracking_model_performance_name = paste0('../performance/' , exp_name , '_1_tracking_performance.csv')\n",
    "resultsdir = 'results/'\n",
    "figuredir = 'figures/'\n",
    "#location of file where we have dataframe\n",
    "commondir = '../data/'\n",
    "Experiment = 'Extended State-Space'\n"
   ]
  },
  {
   "cell_type": "code",
   "execution_count": null,
   "metadata": {
    "vscode": {
     "languageId": "r"
    }
   },
   "outputs": [],
   "source": [
    "library(repr) # needed for figure size\n",
    "options(repr.plot.width=6, repr.plot.height=6)\n",
    "\n",
    "########################\n",
    "### MULTIPLOT\n",
    "# SOURCE: http://www.cookbook-r.com/Graphs/Multiple_graphs_on_one_page_(ggplot2)/\n",
    "multiplot <- function(..., plotlist=NULL, file, cols=1, layout=NULL) {\n",
    "  library(grid)\n",
    "\n",
    "  # Make a list from the ... arguments and plotlist\n",
    "  plots <- c(list(...), plotlist)\n",
    "\n",
    "  numPlots = length(plots)\n",
    "\n",
    "  # If layout is NULL, then use 'cols' to determine layout\n",
    "  if (is.null(layout)) {\n",
    "    # Make the panel\n",
    "    # ncol: Number of columns of plots\n",
    "    # nrow: Number of rows needed, calculated from # of cols\n",
    "    layout <- matrix(seq(1, cols * ceiling(numPlots/cols)),\n",
    "                    ncol = cols, nrow = ceiling(numPlots/cols))\n",
    "  }\n",
    "\n",
    " if (numPlots==1) {\n",
    "    print(plots[[1]])\n",
    "\n",
    "  } else {\n",
    "    # Set up the page\n",
    "    grid.newpage()\n",
    "    pushViewport(viewport(layout = grid.layout(nrow(layout), ncol(layout))))\n",
    "\n",
    "    # Make each plot, in the correct location\n",
    "    for (i in 1:numPlots) {\n",
    "      # Get the i,j matrix positions of the regions that contain this subplot\n",
    "      matchidx <- as.data.frame(which(layout == i, arr.ind = TRUE))\n",
    "\n",
    "      print(plots[[i]], vp = viewport(layout.pos.row = matchidx$row,\n",
    "                                      layout.pos.col = matchidx$col))\n",
    "    }\n",
    "  }\n",
    "}"
   ]
  },
  {
   "cell_type": "code",
   "execution_count": null,
   "metadata": {
    "vscode": {
     "languageId": "r"
    }
   },
   "outputs": [],
   "source": [
    "model_performance_cols = cols(avg_best_Q = col_double(),\n",
    "                                  avg_current_Q = col_double(),\n",
    "                                  loss = col_double(),\n",
    "                                  epoch_action_prob = col_double())\n",
    "model_performance <- read_csv(paste0(model_performance_name),col_types = model_performance_cols)"
   ]
  },
  {
   "cell_type": "code",
   "execution_count": null,
   "metadata": {
    "vscode": {
     "languageId": "r"
    }
   },
   "outputs": [],
   "source": [
    "head(model_performance)"
   ]
  },
  {
   "cell_type": "code",
   "execution_count": null,
   "metadata": {
    "vscode": {
     "languageId": "r"
    }
   },
   "outputs": [],
   "source": [
    "    # Training Metric plots for experiment\n",
    "avg_best_Q = model_performance %>% ggplot(aes(x=c(1:nrow(model_performance))/1000,y = avg_best_Q)) + stat_smooth(method = 'gam', formula = y ~ s(x, bs = \"cs\"), span=0.1, se=T, size=1) +\n",
    "                                       ylim(0,NA) +\n",
    "                                       labs(subtitletitle=\"Average State Value\",title=\"\",y=\"Qvalue\",x=\"iterations\", caption = '') + \n",
    "                                       theme(axis.text=element_text(size=8), axis.title=element_text(size=10)) + \n",
    "                                       theme(plot.title = element_text(size=12)) + theme(legend.position=\"none\")\n"
   ]
  },
  {
   "cell_type": "code",
   "execution_count": null,
   "metadata": {
    "vscode": {
     "languageId": "r"
    }
   },
   "outputs": [],
   "source": [
    "avg_current_Q = model_performance %>% ggplot(aes(x=c(1:nrow(model_performance))/1000,y = avg_current_Q)) +\n",
    "                                      stat_smooth(method = 'gam', formula = y ~ s(x, bs = \"cs\"), span=0.1, se=T, size=1) +\n",
    "                                       ylim(0,NA) +\n",
    "                                       labs(subtitletitle=\"Average Physician Action Value\",title=\"\",y=\"Qvalue\",x=\"iterations\", caption = '') + \n",
    "                                       theme(axis.text=element_text(size=8), axis.title=element_text(size=10)) + \n",
    "                                       theme(plot.title = element_text(size=12)) + theme(legend.position=\"none\")\n",
    "\n"
   ]
  },
  {
   "cell_type": "code",
   "execution_count": null,
   "metadata": {
    "vscode": {
     "languageId": "r"
    }
   },
   "outputs": [],
   "source": [
    "loss = model_performance %>% ggplot(aes(x=c(1:nrow(model_performance))/1000,y = loss)) + stat_smooth(method = 'gam', formula = y ~ s(x, bs = \"cs\"), span=0.1, se=T, size=1) +\n",
    "                                       ylim(0,NA) +\n",
    "                                       labs(subtitletitle=\"Loss\",title=\"\",y=\"loss\",x=\"iterations\", caption = paste0(\"Experiment: \",as.character(Experiment))) + \n",
    "                                       theme(axis.text=element_text(size=8), axis.title=element_text(size=10)) + theme(plot.title = element_text(size=12))\n"
   ]
  },
  {
   "cell_type": "code",
   "execution_count": null,
   "metadata": {
    "vscode": {
     "languageId": "r"
    }
   },
   "outputs": [],
   "source": [
    "epoch_action_prob = model_performance %>% ggplot(aes(x=c(1:nrow(model_performance))/1000,y = epoch_action_prob*100)) + stat_smooth(method = 'gam', formula = y ~ s(x, bs = \"cs\"), span=0.1, se=T, size=1) +\n",
    "                                       ylim(0,NA) +\n",
    "                                       labs(subtitletitle=\"Average best action probability\",title=\"\",y=\"probability\",x=\"iterations\", caption = paste0(\"Experiment: \",as.character(Experiment))) + \n",
    "                                       theme(axis.text=element_text(size=8), axis.title=element_text(size=10)) + theme(plot.title = element_text(size=12)) + theme(legend.position=\"none\")\n"
   ]
  },
  {
   "cell_type": "code",
   "execution_count": null,
   "metadata": {
    "vscode": {
     "languageId": "r"
    }
   },
   "outputs": [],
   "source": [
    "epoch_error = model_performance %>% ggplot(aes(x=c(1:nrow(model_performance))/1000,y = epoch_error)) + stat_smooth(method = 'gam', formula = y ~ s(x, bs = \"cs\"), span=0.1, se=T, size=1) +\n",
    "                                       ylim(0,NA) +\n",
    "                                       labs(subtitletitle=\"Batch error\",title=\"\",x=\"iteration\",y=\"error\", caption = paste0(\"Experiment: \",as.character(Experiment))) + \n",
    "                                       theme(axis.text=element_text(size=8), axis.title=element_text(size=10)) + theme(plot.title = element_text(size=12)) + theme(legend.position=\"none\")\n"
   ]
  },
  {
   "cell_type": "code",
   "execution_count": null,
   "metadata": {
    "vscode": {
     "languageId": "r"
    }
   },
   "outputs": [],
   "source": [
    "epoch_td_error = model_performance %>% ggplot(aes(x=c(1:nrow(model_performance))/1000,y = epoch_td_error)) + stat_smooth(method = 'gam', formula = y ~ s(x, bs = \"cs\"), span=0.1, se=T, size=1) +\n",
    "                                       ylim(0,NA) +\n",
    "                                       labs(subtitletitle=\"Batch TD error\",title=\"\",y=\"TD error\",x=\"iterations\", caption = paste0(\"Experiment: \",as.character(Experiment))) + \n",
    "                                       theme(axis.text=element_text(size=8), axis.title=element_text(size=10)) + theme(plot.title = element_text(size=12)) + theme(legend.position=\"none\")\n"
   ]
  },
  {
   "cell_type": "code",
   "execution_count": null,
   "metadata": {
    "vscode": {
     "languageId": "r"
    }
   },
   "outputs": [],
   "source": [
    "epoch_per_error = model_performance %>% ggplot(aes(x=c(1:nrow(model_performance))/1000,y = epoch_per_error)) + stat_smooth(method = 'gam', formula = y ~ s(x, bs = \"cs\"), span=0.1, se=T, size=1) +\n",
    "                                       ylim(0,NA) +\n",
    "                                       labs(subtitletitle=\"Batch PER error\",title=\"\",x=\"iteration\",y=\"PER error\", caption = paste0(\"Experiment: \",as.character(Experiment))) + \n",
    "                                       theme(axis.text=element_text(size=8), axis.title=element_text(size=10)) + theme(plot.title = element_text(size=12)) + theme(legend.position=\"none\")\n"
   ]
  },
  {
   "cell_type": "code",
   "execution_count": null,
   "metadata": {
    "vscode": {
     "languageId": "r"
    }
   },
   "outputs": [],
   "source": [
    "epoch_reg_term = model_performance %>% ggplot(aes(x=c(1:nrow(model_performance))/1000,y = epoch_reg_term)) + geom_line() +\n",
    "                                       labs(subtitletitle=\"Batch regularization term\",title=\"\",y=\"reg term\",x=\"iterations\", caption = paste0(\"Experiment: \",as.character(Experiment))) + \n",
    "                                       theme(axis.text=element_text(size=8), axis.title=element_text(size=10)) + theme(plot.title = element_text(size=12)) + theme(legend.position=\"none\")\n",
    "\n"
   ]
  },
  {
   "cell_type": "code",
   "execution_count": null,
   "metadata": {
    "vscode": {
     "languageId": "r"
    }
   },
   "outputs": [],
   "source": [
    "    options(repr.plot.width=10, repr.plot.height=5)\n",
    "    suppressWarnings(multiplot(avg_best_Q, avg_current_Q, loss, epoch_action_prob, epoch_error, epoch_td_error, epoch_per_error, epoch_reg_term, cols=4))\n",
    "    #tiff(filename = paste('figures/tracking_multiplot_expgrid_', Experiment, '.tiff', sep=\"\"), width = 10, height = 5, units = \"in\", res = 200, pointsize=12)\n",
    "    #suppressWarnings(multiplot(avg_best_Q, avg_current_Q, loss, epoch_action_prob, epoch_error, epoch_td_error, epoch_per_error, epoch_reg_term, cols=4))\n",
    "    #dev.off()"
   ]
  },
  {
   "cell_type": "code",
   "execution_count": null,
   "metadata": {
    "vscode": {
     "languageId": "r"
    }
   },
   "outputs": [],
   "source": [
    "dev.off()"
   ]
  },
  {
   "cell_type": "markdown",
   "metadata": {},
   "source": [
    "#### Model WDR / WIS performance PLOTS"
   ]
  },
  {
   "cell_type": "code",
   "execution_count": null,
   "metadata": {
    "vscode": {
     "languageId": "r"
    }
   },
   "outputs": [],
   "source": [
    "### Load tracking performance data \n",
    "tracking_performance_cols = cols(eval_type = col_character(),\n",
    "                                     iteration = col_integer(),\n",
    "                                     model_WDR = col_double(),\n",
    "                                     model_wis = col_double())\n",
    "tracking_performance <- read_csv(paste0(tracking_model_performance_name), col_types = tracking_performance_cols)\n",
    "head(tracking_performance)"
   ]
  },
  {
   "cell_type": "code",
   "execution_count": null,
   "metadata": {
    "vscode": {
     "languageId": "r"
    }
   },
   "outputs": [],
   "source": [
    "ylim_min_WDR = floor(min(tracking_performance$model_WDR))-1\n",
    "ylim_min_WIS = floor(min(tracking_performance$model_wis))-1\n",
    "ylim_max_WDR = ceiling(max(tracking_performance$model_WDR))+1\n",
    "ylim_max_WIS = ceiling(max(tracking_performance$model_wis))+1"
   ]
  },
  {
   "cell_type": "code",
   "execution_count": null,
   "metadata": {
    "vscode": {
     "languageId": "r"
    }
   },
   "outputs": [],
   "source": [
    "train_tracking_performance = tracking_performance[tracking_performance$eval_type == 'train', ]\n",
    "val_tracking_performance = tracking_performance[tracking_performance$eval_type == 'val', ]\n",
    "test_tracking_performance = tracking_performance[tracking_performance$eval_type == 'test', ]"
   ]
  },
  {
   "cell_type": "code",
   "execution_count": null,
   "metadata": {
    "vscode": {
     "languageId": "r"
    }
   },
   "outputs": [],
   "source": [
    "train_WIS = train_tracking_performance %>%  select(iteration, model_wis) %>% \n",
    "                                    gather(key,value, model_wis) %>% \n",
    "                                    ggplot(aes(x=iteration, y = value, colour=key)) + geom_line(colour=\"green\") + geom_smooth(method=\"loess\", se=F, colour=\"green\") + \n",
    "                                           scale_colour_discrete(name=\"Policy\", labels=c(\"Physician\", \"DDQN model\")) +\n",
    "                                    geom_hline(yintercept=test_phy_WIS, color = \"blue\") +\n",
    "                                    ylim(ylim_min_WIS,ylim_max_WIS) +\n",
    "                                    labs(subtitle=\"TRAIN - WIS\",y=\"WIS\",x=\"iterations\", \n",
    "                                    caption = paste0(\"Experiment: \",as.character(Experiment))) +  theme(legend.position=\"none\")\n"
   ]
  },
  {
   "cell_type": "code",
   "execution_count": null,
   "metadata": {
    "vscode": {
     "languageId": "r"
    }
   },
   "outputs": [],
   "source": [
    "train_WDR = train_tracking_performance %>%  select(iteration, model_WDR) %>% \n",
    "                                    gather(key,value, model_WDR) %>% \n",
    "                                    ggplot(aes(x=iteration, y = value, colour=key)) + geom_line() + geom_smooth(method=\"loess\", se=F) + \n",
    "                                           scale_colour_discrete(name=\"Policy\", breaks=c(\"Phys_WDR\", \"model_WDR\"), labels=c(\"Physician\", \"DDQN model\")) +\n",
    "                                    geom_hline(yintercept=train_phy_WDR, color = \"blue\") +\n",
    "                                    ylim(ylim_min_WDR,ylim_max_WDR) +\n",
    "                                    labs(subtitle=\"TRAIN - WDR\",y=\"WDR\",x=\"iterations\", \n",
    "                                    caption = paste0(\"Experiment: \",as.character(Experiment))) +  theme(legend.position=\"center\")"
   ]
  },
  {
   "cell_type": "code",
   "execution_count": null,
   "metadata": {
    "vscode": {
     "languageId": "r"
    }
   },
   "outputs": [],
   "source": [
    "    val_WIS = val_tracking_performance %>%  select(iteration, model_wis) %>% \n",
    "                                    gather(key,value, model_wis) %>% \n",
    "                                    ggplot(aes(x=iteration, y = value, colour=key)) + geom_line(colour=\"green\") + geom_smooth(method=\"loess\", se=F, colour=\"green\") + \n",
    "                                           scale_colour_discrete(name=\"Policy\", labels=c(\"Physician\", \"DDQN model\")) +\n",
    "                                    geom_hline(yintercept=test_phy_WIS, color = \"blue\") +\n",
    "                                    ylim(ylim_min_WIS,ylim_max_WIS) +\n",
    "                                    labs(subtitle=\"VAL - WIS\",y=\"WIS\",x=\"iterations\", \n",
    "                                    caption = paste0(\"Experiment: \",as.character(Experiment))) +  theme(legend.position=\"none\")\n",
    "\n",
    "    val_WDR = val_tracking_performance %>%  select(iteration, model_WDR) %>% \n",
    "                                    gather(key,value, model_WDR) %>% \n",
    "                                    ggplot(aes(x=iteration, y = value, colour=key)) + geom_line() + geom_smooth(method=\"loess\", se=F) + \n",
    "                                           scale_colour_discrete(name=\"Policy\", breaks=c(\"Phys_WDR\", \"model_WDR\"), labels=c(\"Physician\", \"DQN model\")) +\n",
    "                                    geom_hline(yintercept=val_phy_WDR, color = \"blue\") +\n",
    "                                    ylim(ylim_min_WDR,ylim_max_WDR) +\n",
    "                                    labs(subtitle=\"VAL - WDR\",y=\"WDR\",x=\"iterations\", \n",
    "                                    caption =paste0(\"Experiment: \",as.character(Experiment))) +  theme(legend.position=\"none\")\n",
    "\n",
    "    test_WIS = test_tracking_performance %>%  select(iteration, model_wis) %>% \n",
    "                                    gather(key,value, model_wis) %>% \n",
    "                                    ggplot(aes(x=iteration, y = value, colour=key)) + geom_line(colour=\"green\") + geom_smooth(method=\"loess\", se=F, colour=\"green\") + \n",
    "                                           scale_colour_discrete(name=\"Policy\", labels=c(\"Physician\", \"DDQN model\")) +\n",
    "                                    geom_hline(yintercept=test_phy_WIS, color = \"blue\") +\n",
    "                                    ylim(ylim_min_WIS,ylim_max_WIS) +\n",
    "                                    labs(subtitle=\"TEST - WIS\",y=\"WIS\",x=\"iterations\", \n",
    "                                    caption = paste0(\"Experiment: \",as.character(Experiment))) +  theme(legend.position=\"none\")\n",
    "\n",
    "    test_WDR = test_tracking_performance %>%  select(iteration, model_WDR) %>%  \n",
    "                                    gather(key,value, model_WDR) %>% \n",
    "                                    ggplot(aes(x=iteration, y = value, colour=key)) + geom_line() + geom_smooth(method=\"loess\", se=F) + \n",
    "                                           scale_colour_discrete(name=\"Policy\", breaks=c(\"Phys_WDR\", \"model_WDR\"), labels=c(\"Physician\", \"DQN model\")) +\n",
    "                                     theme(legend.title = element_text(colour=\"blue\", size=20, face=\"bold\")) +\n",
    "                                     theme(legend.text = element_text(size = 16)) + \n",
    "                                    geom_hline(yintercept=test_phy_WDR, color = \"blue\") +\n",
    "                                    ylim(ylim_min_WDR,ylim_max_WDR) +\n",
    "                                    labs(subtitle=\"TEST - WDR\",y=\"WDR\",x=\"iterations\", \n",
    "                                    caption = paste0(\"Experiment: \",as.character(Experiment))) +  theme(legend.position = \"none\")"
   ]
  },
  {
   "cell_type": "code",
   "execution_count": null,
   "metadata": {
    "vscode": {
     "languageId": "r"
    }
   },
   "outputs": [],
   "source": [
    "options(repr.plot.width=12, repr.plot.height=4)\n",
    "suppressWarnings(multiplot(train_WIS, train_WDR, val_WIS, val_WDR, test_WIS, test_WDR, cols=3))"
   ]
  },
  {
   "cell_type": "code",
   "execution_count": null,
   "metadata": {
    "vscode": {
     "languageId": "r"
    }
   },
   "outputs": [],
   "source": [
    "PHY = as.data.frame(matrix(ncol=0,nrow=1))\n",
    "PHY$WDR_train = train_phy_WDR\n",
    "PHY$WDR_val   = val_phy_WDR\n",
    "PHY$WDR_test  = test_phy_WDR\n",
    "PHY$WIS_train = train_phy_WIS\n",
    "PHY$WIS_val   = val_phy_WIS\n",
    "PHY$WIS_test  = test_phy_WIS\n",
    "PHY$exp_grid  = \"Physician\"\n",
    "PHY$iteration = \"Physician\"\n",
    "results = PHY\n",
    "print(results)"
   ]
  },
  {
   "cell_type": "code",
   "execution_count": null,
   "metadata": {
    "vscode": {
     "languageId": "r"
    }
   },
   "outputs": [],
   "source": [
    "head(tracking_performance)"
   ]
  },
  {
   "cell_type": "code",
   "execution_count": null,
   "metadata": {
    "vscode": {
     "languageId": "r"
    }
   },
   "outputs": [],
   "source": [
    "      ### LOAD DATA\n",
    "    tracking_performance_cols = cols(eval_type = col_character(),\n",
    "                                     iteration = col_integer(),\n",
    "                                     model_WDR = col_double(),\n",
    "                                     model_wis = col_double())\n",
    "    tracking_performance <- read_csv(paste0(tracking_model_performance_name), col_types = tracking_performance_cols)\n",
    "\n",
    "    ########################\n",
    "    WDR = tracking_performance %>% select(iteration,eval_type, model_WDR) %>% spread(eval_type, model_WDR) %>% rename(WDR_test=test,WDR_train=train,WDR_val=val)\n",
    "    WIS = tracking_performance %>% select(iteration,eval_type, model_wis) %>% spread(eval_type, model_wis) %>% rename(WIS_test=test,WIS_train=train,WIS_val=val) %>% select(-iteration)\n",
    "    tpdf = cbind(WDR,WIS)"
   ]
  },
  {
   "cell_type": "code",
   "execution_count": null,
   "metadata": {
    "vscode": {
     "languageId": "r"
    }
   },
   "outputs": [],
   "source": [
    "    tpdf$train_phy_WDR = train_phy_WDR\n",
    "    tpdf$train_phy_WIS = train_phy_WIS\n",
    "    tpdf$val_phy_WDR   = val_phy_WDR\n",
    "    tpdf$val_phy_WIS   = val_phy_WIS\n",
    "    tpdf$test_phy_WDR  = test_phy_WDR\n",
    "    tpdf$test_phy_WIS  = test_phy_WIS\n",
    "    \n",
    "    \n",
    "    # select models with good performance on all datasets\n",
    "    \n",
    "    result = tpdf[ (\n",
    "              (tpdf$WDR_train>1.0*tpdf$train_phy_WDR)\n",
    "              &\n",
    "              (tpdf$WIS_train>1.0*tpdf$train_phy_WIS)\n",
    "              &\n",
    "              (tpdf$WDR_val>1.0*tpdf$val_phy_WDR)\n",
    "              &\n",
    "              (tpdf$WIS_val>1.0*tpdf$val_phy_WIS)\n",
    "              &\n",
    "              (tpdf$WDR_test>1.0*tpdf$test_phy_WDR)\n",
    "              &\n",
    "              (tpdf$WIS_test>1.0*tpdf$test_phy_WIS)\n",
    "          )\n",
    "         , ]\n",
    "        "
   ]
  },
  {
   "cell_type": "code",
   "execution_count": null,
   "metadata": {
    "vscode": {
     "languageId": "r"
    }
   },
   "outputs": [],
   "source": [
    "resultsdir = '../results/'"
   ]
  },
  {
   "cell_type": "code",
   "execution_count": null,
   "metadata": {
    "vscode": {
     "languageId": "r"
    }
   },
   "outputs": [],
   "source": [
    "    exp_grid=1\n",
    "    # collect model results\n",
    "    if(nrow(result)>=1){ \n",
    "        result$exp_grid = exp_grid\n",
    "        result = result[order(-result$WDR_val, -result$WIS_val),]\n",
    "        result <- result[c(\"WDR_train\", \"WDR_val\", \"WDR_test\", \"WIS_train\", \"WIS_val\", \"WIS_test\", \"exp_grid\", \"iteration\")]\n",
    "        print(head(result))\n",
    "    } else { \n",
    "        print(\"No good models\") \n",
    "    }\n",
    "    results = rbind(results,result)\n",
    "\n",
    "\n",
    "\n",
    "### SAVE AND SHOW RESULTS\n",
    "\n",
    "# order results by validation WDR and WIS (best values up top)\n",
    "results = results[order(-results$WDR_val, -results$WIS_val),]\n",
    "# re-order again to bring physician returns back up top\n",
    "results = results[c(nrow(results),1:nrow(results)-1),]\n",
    "\n",
    "if(nrow(results)>=1){ \n",
    "    # Write CSV\n",
    "    experiment_results = paste0(resultsdir, exp_name, '_results.csv', sep=\"\")\n",
    "    write.csv(results, file = experiment_results)\n",
    "}\n",
    "\n",
    "# show results\n",
    "print(experiment_results)\n",
    "#results[(results$iteration!=0), ]"
   ]
  }
 ],
 "metadata": {
  "kernelspec": {
   "display_name": "R",
   "language": "R",
   "name": "ir"
  },
  "language_info": {
   "codemirror_mode": "r",
   "file_extension": ".r",
   "mimetype": "text/x-r-source",
   "name": "R",
   "pygments_lexer": "r",
   "version": "3.6.1"
  },
  "orig_nbformat": 4
 },
 "nbformat": 4,
 "nbformat_minor": 2
}
