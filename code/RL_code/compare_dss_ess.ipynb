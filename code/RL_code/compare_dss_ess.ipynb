{
 "cells": [
  {
   "cell_type": "code",
   "execution_count": 1,
   "metadata": {},
   "outputs": [],
   "source": [
    "import os\n",
    "import copy\n",
    "import sys\n",
    "import time\n",
    "import math\n",
    "from datetime import datetime\n",
    "import time\n",
    "\n",
    "import pandas as pd\n",
    "import numpy as np\n",
    "import torch\n",
    "import matplotlib.pyplot as plt\n",
    "\n",
    "from torch.utils.data import Dataset, DataLoader\n",
    "from functools import reduce\n",
    "from sklearn.feature_extraction import DictVectorizer\n",
    "from sklearn.model_selection import ParameterGrid\n",
    "import joblib\n",
    "\n",
    "import torch.nn as nn\n",
    "import torch.optim as optim\n",
    "from torch.autograd import Variable\n",
    "import torch.nn.functional as F\n",
    "import torch.optim.lr_scheduler as lr_scheduler\n",
    "\n",
    "from luca_utils import *\n",
    "\n",
    "### check for GPU's\n",
    "use_gpu = torch.cuda.is_available()"
   ]
  },
  {
   "cell_type": "code",
   "execution_count": 2,
   "metadata": {},
   "outputs": [],
   "source": [
    "### Get data dict for ess and dss \n",
    "eval_type = 'val'\n",
    "ess_dir = '../'\n",
    "ess_model_results = 'ess_b32_h128_lr1e4_g99_1/'\n",
    "dss_dir = '../../dss/'\n",
    "dss_model_results = 'dss_b33_h128_lr1e4_g99_1/'\n",
    "\n",
    "ess_data_dict = joblib.load(os.path.join(ess_dir, 'data/ess_data_dict.pkl'))\n",
    "ess_Q_values =  pd.read_csv(os.path.join(ess_dir, 'models/', ess_model_results, 'DQN_Qvalues_' + eval_type + 'data.csv'))\n",
    "ess_pi_values =  pd.read_csv(os.path.join(ess_dir, 'models/', ess_model_results, 'DQN_action_prob_df_' + eval_type + 'data.csv'))"
   ]
  },
  {
   "cell_type": "code",
   "execution_count": 3,
   "metadata": {},
   "outputs": [],
   "source": [
    "dss_data_dict = joblib.load(os.path.join(dss_dir, 'data/dss_data_dict.pkl'))\n",
    "dss_Q_values =  pd.read_csv(os.path.join(dss_dir, 'models/', dss_model_results, 'DQN_Qvalues_' + eval_type + 'data.csv'))\n",
    "dss_pi_values =  pd.read_csv(os.path.join(dss_dir, 'models/', dss_model_results, 'DQN_action_prob_df_' + eval_type + 'data.csv'))"
   ]
  },
  {
   "cell_type": "code",
   "execution_count": 6,
   "metadata": {},
   "outputs": [],
   "source": [
    "batch_ids           = dss_data_dict[eval_type]['state_id']\n",
    "actions_sequence    = dss_pi_values['best_action'][batch_ids] # actual actions from data dictionary\n",
    "rewards_sequence    = dss_data_dict[eval_type]['reward'][(batch_ids)] # actual rewards from data dictionary\n",
    "fence_posts         = get_fence_post(ess_data_dict, eval_type) # list of indexes from data_dictionary to mark the beginning of a trajectory by it' index (state ID)\n",
    "\n",
    "#DSS datas\n",
    "DSS_pi = dss_pi_values.iloc[:, :21]\n",
    "DSS_action = dss_pi_values['best_action'][batch_ids]\n",
    "DSS_Q = dss_Q_values.iloc[:,:21]\n",
    "DSS_V = DSS_Q.max(axis=1)\n",
    "\n",
    "#ESS datas\n",
    "ESS_pi = ess_pi_values.iloc[:, :21]\n",
    "ESS_action = ess_pi_values['best_action'][batch_ids]\n",
    "ESS_Q = ess_Q_values.iloc[:,:21]\n",
    "ESS_V = ESS_Q.max(axis=1)"
   ]
  },
  {
   "cell_type": "code",
   "execution_count": 92,
   "metadata": {},
   "outputs": [
    {
     "name": "stdout",
     "output_type": "stream",
     "text": [
      "DSS_WDR 9.294135889009064 DSS_WIS  9.294135889009064\n",
      "ess_WDR 5.635600999343436 ess_WIS  2.7924820007547644\n"
     ]
    }
   ],
   "source": [
    "### Compare DSS with ESS by considering DSS is base line and behavioural policy \n",
    "dss_WDR, dss_wis = WDR(DSS_action, rewards_sequence, fence_posts, 0.99, DSS_pi, DSS_pi, V=DSS_V, Q= DSS_Q)\n",
    "ess_WDR, ess_wis = WDR(actions_sequence, rewards_sequence, fence_posts, 0.99, ESS_pi, DSS_pi,  V=DSS_V, Q= DSS_Q)\n",
    "\n",
    "print('DSS_WDR', dss_WDR, 'DSS_WIS ', dss_wis)\n",
    "print('ess_WDR', ess_WDR, 'ess_WIS ', ess_wis)\n"
   ]
  },
  {
   "cell_type": "code",
   "execution_count": 94,
   "metadata": {},
   "outputs": [
    {
     "name": "stdout",
     "output_type": "stream",
     "text": [
      "behviour  ess_WDR 9.294135889009064 ess_WIS  9.294135889009064\n",
      "target  DSS_WDR 14.31911053990693 DSS_WIS  12.59613056942735\n"
     ]
    }
   ],
   "source": [
    "### Compare DSS with ESS by considering ESS is base line and behavioural policy \n",
    "ess_WDR, ess_wis = WDR(ESS_action, rewards_sequence, fence_posts, 0.99, ESS_pi, ESS_pi, V=ESS_V, Q= ESS_Q)\n",
    "dss_WDR, dss_wis = WDR(ESS_action, rewards_sequence, fence_posts, 0.99, DSS_pi, ESS_pi,  V=ESS_V, Q= ESS_Q)\n",
    "\n",
    "print('behviour ', 'ess_WDR', ess_WDR, 'ess_WIS ', ess_wis)\n",
    "print('target ', 'DSS_WDR', dss_WDR, 'DSS_WIS ', dss_wis)"
   ]
  },
  {
   "cell_type": "markdown",
   "metadata": {},
   "source": [
    "##### compare action space based on mcnemar test "
   ]
  },
  {
   "cell_type": "code",
   "execution_count": 5,
   "metadata": {},
   "outputs": [],
   "source": [
    "from mlxtend.evaluate import mcnemar, mcnemar_table"
   ]
  },
  {
   "cell_type": "code",
   "execution_count": 14,
   "metadata": {},
   "outputs": [
    {
     "data": {
      "text/plain": [
       "<matplotlib.axes._subplots.AxesSubplot at 0x29f0bf5e320>"
      ]
     },
     "execution_count": 14,
     "metadata": {},
     "output_type": "execute_result"
    },
    {
     "data": {
      "image/png": "[encoded data removed]",
      "text/plain": [
       "<Figure size 432x288 with 1 Axes>"
      ]
     },
     "metadata": {
      "needs_background": "light"
     },
     "output_type": "display_data"
    }
   ],
   "source": [
    "import seaborn as sns\n",
    "(ESS_action.value_counts()/ESS_action.shape[0] *100).sort_index().plot(kind='bar')"
   ]
  },
  {
   "cell_type": "code",
   "execution_count": 15,
   "metadata": {},
   "outputs": [
    {
     "data": {
      "text/plain": [
       "<matplotlib.axes._subplots.AxesSubplot at 0x29f0bffe400>"
      ]
     },
     "execution_count": 15,
     "metadata": {},
     "output_type": "execute_result"
    },
    {
     "data": {
      "image/png": "[encoded data removed]",
      "text/plain": [
       "<Figure size 432x288 with 1 Axes>"
      ]
     },
     "metadata": {
      "needs_background": "light"
     },
     "output_type": "display_data"
    }
   ],
   "source": [
    "(DSS_action.value_counts()/DSS_action.shape[0] *100).sort_index().plot(kind='bar')"
   ]
  },
  {
   "cell_type": "code",
   "execution_count": 17,
   "metadata": {},
   "outputs": [],
   "source": [
    "phy_val_action = ess_data_dict['val']['action']"
   ]
  },
  {
   "cell_type": "code",
   "execution_count": 19,
   "metadata": {},
   "outputs": [
    {
     "data": {
      "text/plain": [
       "<matplotlib.axes._subplots.AxesSubplot at 0x29f0c0b9dd8>"
      ]
     },
     "execution_count": 19,
     "metadata": {},
     "output_type": "execute_result"
    },
    {
     "data": {
      "image/png": "[encoded data removed]",
      "text/plain": [
       "<Figure size 432x288 with 1 Axes>"
      ]
     },
     "metadata": {
      "needs_background": "light"
     },
     "output_type": "display_data"
    }
   ],
   "source": [
    "(pd.DataFrame(phy_val_action).value_counts()/phy_val_action.shape[0] *100).sort_index().plot(kind='bar')"
   ]
  },
  {
   "cell_type": "code",
   "execution_count": 20,
   "metadata": {},
   "outputs": [],
   "source": [
    "tb = mcnemar_table(y_target=phy_val_action, \n",
    "                   y_model1=DSS_action, \n",
    "                   y_model2=ESS_action)"
   ]
  },
  {
   "cell_type": "code",
   "execution_count": 21,
   "metadata": {},
   "outputs": [
    {
     "name": "stdout",
     "output_type": "stream",
     "text": [
      "chi-squared: 718.6292244897959\n",
      "p-value: 2.659083711611317e-158\n"
     ]
    }
   ],
   "source": [
    "chi2, p = mcnemar(ary=tb, corrected=True)\n",
    "print('chi-squared:', chi2)\n",
    "print('p-value:', p)"
   ]
  }
 ],
 "metadata": {
  "kernelspec": {
   "display_name": "Python 3.7.0 ('rlenv')",
   "language": "python",
   "name": "python3"
  },
  "language_info": {
   "codemirror_mode": {
    "name": "ipython",
    "version": 3
   },
   "file_extension": ".py",
   "mimetype": "text/x-python",
   "name": "python",
   "nbconvert_exporter": "python",
   "pygments_lexer": "ipython3",
   "version": "3.7.0"
  },
  "orig_nbformat": 4,
  "vscode": {
   "interpreter": {
    "hash": "b0a38587170ce5058530d66ab8d71eef54685962c912a0e111f5dda9b3492382"
   }
  }
 },
 "nbformat": 4,
 "nbformat_minor": 2
}
