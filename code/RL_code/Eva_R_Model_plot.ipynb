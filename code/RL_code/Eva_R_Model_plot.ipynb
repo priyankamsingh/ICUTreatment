{
 "cells": [
  {
   "cell_type": "code",
   "execution_count": null,
   "metadata": {
    "vscode": {
     "languageId": "r"
    }
   },
   "outputs": [],
   "source": [
    "library(tidyverse)\n",
    "library(lubridate)\n",
    "library(repr) # needed for figure size\n",
    "options(repr.plot.width=6, repr.plot.height=6)"
   ]
  },
  {
   "cell_type": "code",
   "execution_count": null,
   "metadata": {
    "vscode": {
     "languageId": "r"
    }
   },
   "outputs": [],
   "source": [
    "exp_name = 'ess_b32_h128_lr1e4_g99'\n",
    "exp_grid = 1\n",
    "Experiment = 'Extended State Space'\n",
    "train_phy_WDR = 1.9362\n",
    "train_phy_WIS = 1.9021\n",
    "val_phy_WDR   = 2.3504\n",
    "val_phy_WIS   = 1.8141\n",
    "test_phy_WDR  = 4.6861\n",
    "test_phy_WIS  = 1.832\n",
    "trainfile = '../data/train_data_scaled_imputed.csv'\n",
    "valfile = '../data/val_data_scaled_imputed.csv'\n",
    "testfile = '../data/test_data_scaled_imputed.csv'\n",
    "exp_data_path =  paste0('../models/', exp_name, '_' ,exp_grid, '/')\n",
    "figuresdir = '../figures/'\n",
    "\n"
   ]
  },
  {
   "cell_type": "code",
   "execution_count": null,
   "metadata": {
    "vscode": {
     "languageId": "r"
    }
   },
   "outputs": [],
   "source": [
    "\n",
    "########################\n",
    "### MULTIPLOT\n",
    "# SOURCE: http://www.cookbook-r.com/Graphs/Multiple_graphs_on_one_page_(ggplot2)/\n",
    "multiplot <- function(..., plotlist=NULL, file, cols=1, layout=NULL) {\n",
    "  library(grid)\n",
    "\n",
    "  # Make a list from the ... arguments and plotlist\n",
    "  plots <- c(list(...), plotlist)\n",
    "\n",
    "  numPlots = length(plots)\n",
    "\n",
    "  # If layout is NULL, then use 'cols' to determine layout\n",
    "  if (is.null(layout)) {\n",
    "    # Make the panel\n",
    "    # ncol: Number of columns of plots\n",
    "    # nrow: Number of rows needed, calculated from # of cols\n",
    "    layout <- matrix(seq(1, cols * ceiling(numPlots/cols)),\n",
    "                    ncol = cols, nrow = ceiling(numPlots/cols))\n",
    "  }\n",
    "\n",
    " if (numPlots==1) {\n",
    "    print(plots[[1]])\n",
    "\n",
    "  } else {\n",
    "    # Set up the page\n",
    "    grid.newpage()\n",
    "    pushViewport(viewport(layout = grid.layout(nrow(layout), ncol(layout))))\n",
    "\n",
    "    # Make each plot, in the correct location\n",
    "    for (i in 1:numPlots) {\n",
    "      # Get the i,j matrix positions of the regions that contain this subplot\n",
    "      matchidx <- as.data.frame(which(layout == i, arr.ind = TRUE))\n",
    "\n",
    "      print(plots[[i]], vp = viewport(layout.pos.row = matchidx$row,\n",
    "                                      layout.pos.col = matchidx$col))\n",
    "    }\n",
    "  }\n",
    "}\n",
    "print(\"done\")"
   ]
  },
  {
   "cell_type": "code",
   "execution_count": null,
   "metadata": {
    "vscode": {
     "languageId": "r"
    }
   },
   "outputs": [],
   "source": [
    "recquired_cols = c('icustay_id' ,'interval_start_time' ,\n",
    "                    'interval_end_time',\n",
    "                      'Discharge',\n",
    "                      'discrete_action',\n",
    "                      'Reward' ,\n",
    "                      'discrete_action_original',\n",
    "                      'row_id' ,\n",
    "                      'row_id_next'\n",
    "                      )"
   ]
  },
  {
   "cell_type": "code",
   "execution_count": null,
   "metadata": {
    "vscode": {
     "languageId": "r"
    }
   },
   "outputs": [],
   "source": [
    "########################\n",
    "### Get DATA\n",
    "\n",
    "train_data <- read_csv(trainfile, , col_types=cols()) %>% select(recquired_cols)\n",
    "val_data <- read_csv(valfile, , col_types=cols()) %>% select(recquired_cols)\n",
    "test_data <- read_csv(testfile, , col_types=cols()) %>% select(recquired_cols)\n",
    "\n",
    "modelcols = c('best_action', 'state_id')\n",
    "\n",
    " \n",
    "train_opt <- read_csv(paste0(exp_data_path, 'DQN_Qvalues_traindata.csv'), col_types=cols()) %>% select(modelcols)\n",
    "val_opt <- read_csv(paste0(exp_data_path, 'DQN_Qvalues_valdata.csv'), col_types=cols())  %>% select(modelcols)\n",
    "test_opt <- read_csv(paste0(exp_data_path, 'DQN_Qvalues_testdata.csv'), col_types=cols()) %>% select(modelcols)"
   ]
  },
  {
   "cell_type": "code",
   "execution_count": null,
   "metadata": {
    "vscode": {
     "languageId": "r"
    }
   },
   "outputs": [],
   "source": [
    "#action mapping\n",
    "\n",
    "########################\n",
    "# Action distribution\n",
    "action_mappings <- expand.grid(discrete_IV = c(0, 1, 2, 3, 4), discrete_VP = c(0, 1, 2, 3, 4)) %>% mutate(real_discrete_action = 0:24)\n",
    "model_actions     = c(0, 1, 2, 3, 4, NA, 5, 6, 7, 8, NA,  9, 10, 11, 12, NA, 13, 14, 15, 16, NA, 17, 18, 19, 20)\n",
    "real_actions_ind =  c(0, 1, 2, 3, 4, 6, 7, 8, 9, 11, 12, 13, 14, 16, 17, 18, 19, 21, 22, 23, 24)\n",
    "action_mappings = action_mappings %>% mutate(model_action = model_actions[real_discrete_action+1])\n",
    "DQN_action_mappings = action_mappings %>% rename(DQN_discrete_action = real_discrete_action)\n",
    "\n",
    "# Apply mapping\n",
    "train_data = train_data %>% mutate(real_discrete_action = real_actions_ind[discrete_action+1])\n",
    "val_data = val_data %>% mutate(real_discrete_action = real_actions_ind[discrete_action+1])\n",
    "test_data = test_data %>% mutate(real_discrete_action = real_actions_ind[discrete_action+1])\n",
    "train_opt = train_opt %>% mutate(DQN_discrete_action = real_actions_ind[best_action+1])\n",
    "val_opt = val_opt %>% mutate(DQN_discrete_action = real_actions_ind[best_action+1]) \n",
    "test_opt = test_opt %>% mutate(DQN_discrete_action = real_actions_ind[best_action+1]) "
   ]
  },
  {
   "cell_type": "code",
   "execution_count": null,
   "metadata": {
    "vscode": {
     "languageId": "r"
    }
   },
   "outputs": [],
   "source": [
    "########################\n",
    "train = train_data %>% rename(state_id = row_id) %>% left_join(train_opt, by='state_id')  %>% \n",
    "        group_by(icustay_id) %>%\n",
    "        mutate(sum_reward = sum(Reward)) %>%\n",
    "        mutate(relative_time = difftime(interval_start_time, min(interval_start_time), units = 'hours')) %>% \n",
    "        mutate(discharge = case_when(sum(sum_reward) > 0 ~ 1, sum(sum_reward) < 0 ~ 0, TRUE ~ 9)) %>%\n",
    "        ungroup() \n",
    "\n",
    "val =   val_data %>% rename(state_id = row_id) %>% left_join(val_opt, by='state_id') %>% \n",
    "        group_by(icustay_id) %>%\n",
    "        mutate(sum_reward = sum(Reward)) %>%\n",
    "        mutate(relative_time = difftime(interval_start_time, min(interval_start_time), units = 'hours')) %>% \n",
    "        mutate(discharge = case_when(sum(sum_reward) > 0 ~ 1, sum(sum_reward) < 0 ~ 0, TRUE ~ 9)) %>%\n",
    "        ungroup() \n",
    "\n",
    "test =  test_data %>% rename(state_id = row_id) %>% left_join(test_opt, by='state_id')  %>% \n",
    "        group_by(icustay_id) %>%\n",
    "        mutate(sum_reward = sum(Reward)) %>%\n",
    "        mutate(relative_time = difftime(interval_start_time, min(interval_start_time), units = 'hours')) %>% \n",
    "        mutate(discharge = case_when(sum(sum_reward) > 0 ~ 1, sum(sum_reward) < 0 ~ 0, TRUE ~ 9)) %>%\n",
    "        ungroup() \n"
   ]
  },
  {
   "cell_type": "code",
   "execution_count": null,
   "metadata": {
    "vscode": {
     "languageId": "r"
    }
   },
   "outputs": [],
   "source": [
    "head(train,3)"
   ]
  },
  {
   "cell_type": "code",
   "execution_count": null,
   "metadata": {
    "vscode": {
     "languageId": "r"
    }
   },
   "outputs": [],
   "source": [
    "########################\n",
    "# Action distribution\n",
    "action_mappings <- expand.grid(discrete_IV = c(0, 1, 2, 3, 4), discrete_VP = c(0, 1, 2, 3, 4)) %>% mutate(real_discrete_action = 0:24)\n",
    "model_actions     = c(0, 1, 2, 3, 4, NA, 5, 6, 7, 8, NA,  9, 10, 11, 12, NA, 13, 14, 15, 16, NA, 17, 18, 19, 20)\n",
    "real_actions_ind =  c(0, 1, 2, 3, 4, 6, 7, 8, 9, 11, 12, 13, 14, 16, 17, 18, 19, 21, 22, 23, 24)\n",
    "action_mappings = action_mappings %>% mutate(model_action = model_actions[real_discrete_action+1])\n",
    "\n",
    "PHY_mapping = action_mappings %>% select(-model_action)\n",
    "names(PHY_mapping) <- c(\"PHY_IV\",\"PHY_VP\",\"PHY_action\")\n",
    "\n",
    "DQN_mapping = action_mappings %>% select(-model_action)\n",
    "names(DQN_mapping) <- c(\"DQN_IV\",\"DQN_VP\",\"DQN_action\")"
   ]
  },
  {
   "cell_type": "code",
   "execution_count": null,
   "metadata": {
    "vscode": {
     "languageId": "r"
    }
   },
   "outputs": [],
   "source": [
    "# Apply mapping again with additional mutations\n",
    "dose_train = train %>%  mutate(PHY_action = real_actions_ind[discrete_action+1]) %>% \n",
    "                        mutate(DQN_action = real_actions_ind[best_action+1]) %>% \n",
    "                        full_join(PHY_mapping, by = \"PHY_action\") %>% group_by(PHY_IV, PHY_VP, PHY_action) %>% \n",
    "                        full_join(DQN_mapping, by = \"DQN_action\") %>% group_by(DQN_IV, DQN_VP, DQN_action) %>%\n",
    "                        mutate(VP_diff = DQN_VP-PHY_VP) %>% mutate(IV_diff = DQN_IV-PHY_IV)\n",
    "\n",
    "dose_val = val %>%      mutate(PHY_action = real_actions_ind[discrete_action+1]) %>% \n",
    "                        mutate(DQN_action = real_actions_ind[best_action+1]) %>% \n",
    "                        full_join(PHY_mapping, by = \"PHY_action\") %>% group_by(PHY_IV, PHY_VP, PHY_action) %>% \n",
    "                        full_join(DQN_mapping, by = \"DQN_action\") %>% group_by(DQN_IV, DQN_VP, DQN_action) %>%\n",
    "                        mutate(VP_diff = DQN_VP-PHY_VP) %>% mutate(IV_diff = DQN_IV-PHY_IV)\n",
    "\n",
    "dose_test = test %>%    mutate(PHY_action = real_actions_ind[discrete_action+1]) %>% \n",
    "                        mutate(DQN_action = real_actions_ind[best_action+1]) %>% \n",
    "                        full_join(PHY_mapping, by = \"PHY_action\") %>% group_by(PHY_IV, PHY_VP, PHY_action) %>% \n",
    "                        full_join(DQN_mapping, by = \"DQN_action\") %>% group_by(DQN_IV, DQN_VP, DQN_action) %>%\n",
    "                        mutate(VP_diff = DQN_VP-PHY_VP) %>% mutate(IV_diff = DQN_IV-PHY_IV)"
   ]
  },
  {
   "cell_type": "code",
   "execution_count": null,
   "metadata": {
    "vscode": {
     "languageId": "r"
    }
   },
   "outputs": [],
   "source": [
    "head(dose_val,2)"
   ]
  },
  {
   "cell_type": "code",
   "execution_count": null,
   "metadata": {
    "vscode": {
     "languageId": "r"
    }
   },
   "outputs": [],
   "source": [
    "########################\n",
    "### preprocess data\n",
    "dose_time_train = dose_train %>% mutate(PHY_VP_OnOFF_0 = case_when(PHY_VP == 0 ~ 1, PHY_VP != 0  ~ 0)) %>% \n",
    "                                 mutate(PHY_IV_OnOFF_0 = case_when(PHY_IV == 0 ~ 1, PHY_IV != 0  ~ 0)) %>% \n",
    "                                 mutate(DQN_VP_OnOFF_0 = case_when(DQN_VP == 0 ~ 1, DQN_VP != 0  ~ 0)) %>% \n",
    "                                 mutate(DQN_IV_OnOFF_0 = case_when(DQN_IV == 0 ~ 1, DQN_IV != 0  ~ 0)) %>% \n",
    "                                 mutate(PHY_VP_OnOFF_1 = case_when(PHY_VP == 1 ~ 1, PHY_VP != 1  ~ 0)) %>% \n",
    "                                 mutate(PHY_IV_OnOFF_1 = case_when(PHY_IV == 1 ~ 1, PHY_IV != 1  ~ 0)) %>% \n",
    "                                 mutate(DQN_VP_OnOFF_1 = case_when(DQN_VP == 1 ~ 1, DQN_VP != 1  ~ 0)) %>% \n",
    "                                 mutate(DQN_IV_OnOFF_1 = case_when(DQN_IV == 1 ~ 1, DQN_IV != 1  ~ 0)) %>% \n",
    "                                 mutate(PHY_VP_OnOFF_2 = case_when(PHY_VP == 2 ~ 1, PHY_VP != 2  ~ 0)) %>% \n",
    "                                 mutate(PHY_IV_OnOFF_2 = case_when(PHY_IV == 2 ~ 1, PHY_IV != 2  ~ 0)) %>% \n",
    "                                 mutate(DQN_VP_OnOFF_2 = case_when(DQN_VP == 2 ~ 1, DQN_VP != 2  ~ 0)) %>% \n",
    "                                 mutate(DQN_IV_OnOFF_2 = case_when(DQN_IV == 2 ~ 1, DQN_IV != 2  ~ 0)) %>% \n",
    "                                 mutate(PHY_VP_OnOFF_3 = case_when(PHY_VP == 3 ~ 1, PHY_VP != 3  ~ 0)) %>% \n",
    "                                 mutate(PHY_IV_OnOFF_3 = case_when(PHY_IV == 3 ~ 1, PHY_IV != 3  ~ 0)) %>% \n",
    "                                 mutate(DQN_VP_OnOFF_3 = case_when(DQN_VP == 3 ~ 1, DQN_VP != 3  ~ 0)) %>% \n",
    "                                 mutate(DQN_IV_OnOFF_3 = case_when(DQN_IV == 3 ~ 1, DQN_IV != 3  ~ 0)) %>% \n",
    "                                 mutate(PHY_VP_OnOFF_4 = case_when(PHY_VP == 4 ~ 1, PHY_VP != 4  ~ 0)) %>% \n",
    "                                 mutate(PHY_IV_OnOFF_4 = case_when(PHY_IV == 4 ~ 1, PHY_IV != 4  ~ 0)) %>% \n",
    "                                 mutate(DQN_VP_OnOFF_4 = case_when(DQN_VP == 4 ~ 1, DQN_VP != 4  ~ 0)) %>% \n",
    "                                 mutate(DQN_IV_OnOFF_4 = case_when(DQN_IV == 4 ~ 1, DQN_IV != 4  ~ 0)) \n",
    "\n",
    "dose_time_val = dose_val     %>% mutate(PHY_VP_OnOFF_0 = case_when(PHY_VP == 0 ~ 1, PHY_VP != 0  ~ 0)) %>% \n",
    "                                 mutate(PHY_IV_OnOFF_0 = case_when(PHY_IV == 0 ~ 1, PHY_IV != 0  ~ 0)) %>% \n",
    "                                 mutate(DQN_VP_OnOFF_0 = case_when(DQN_VP == 0 ~ 1, DQN_VP != 0  ~ 0)) %>% \n",
    "                                 mutate(DQN_IV_OnOFF_0 = case_when(DQN_IV == 0 ~ 1, DQN_IV != 0  ~ 0)) %>% \n",
    "                                 mutate(PHY_VP_OnOFF_1 = case_when(PHY_VP == 1 ~ 1, PHY_VP != 1  ~ 0)) %>% \n",
    "                                 mutate(PHY_IV_OnOFF_1 = case_when(PHY_IV == 1 ~ 1, PHY_IV != 1  ~ 0)) %>% \n",
    "                                 mutate(DQN_VP_OnOFF_1 = case_when(DQN_VP == 1 ~ 1, DQN_VP != 1  ~ 0)) %>% \n",
    "                                 mutate(DQN_IV_OnOFF_1 = case_when(DQN_IV == 1 ~ 1, DQN_IV != 1  ~ 0)) %>% \n",
    "                                 mutate(PHY_VP_OnOFF_2 = case_when(PHY_VP == 2 ~ 1, PHY_VP != 2  ~ 0)) %>% \n",
    "                                 mutate(PHY_IV_OnOFF_2 = case_when(PHY_IV == 2 ~ 1, PHY_IV != 2  ~ 0)) %>% \n",
    "                                 mutate(DQN_VP_OnOFF_2 = case_when(DQN_VP == 2 ~ 1, DQN_VP != 2  ~ 0)) %>% \n",
    "                                 mutate(DQN_IV_OnOFF_2 = case_when(DQN_IV == 2 ~ 1, DQN_IV != 2  ~ 0)) %>% \n",
    "                                 mutate(PHY_VP_OnOFF_3 = case_when(PHY_VP == 3 ~ 1, PHY_VP != 3  ~ 0)) %>% \n",
    "                                 mutate(PHY_IV_OnOFF_3 = case_when(PHY_IV == 3 ~ 1, PHY_IV != 3  ~ 0)) %>% \n",
    "                                 mutate(DQN_VP_OnOFF_3 = case_when(DQN_VP == 3 ~ 1, DQN_VP != 3  ~ 0)) %>% \n",
    "                                 mutate(DQN_IV_OnOFF_3 = case_when(DQN_IV == 3 ~ 1, DQN_IV != 3  ~ 0)) %>% \n",
    "                                 mutate(PHY_VP_OnOFF_4 = case_when(PHY_VP == 4 ~ 1, PHY_VP != 4  ~ 0)) %>% \n",
    "                                 mutate(PHY_IV_OnOFF_4 = case_when(PHY_IV == 4 ~ 1, PHY_IV != 4  ~ 0)) %>% \n",
    "                                 mutate(DQN_VP_OnOFF_4 = case_when(DQN_VP == 4 ~ 1, DQN_VP != 4  ~ 0)) %>% \n",
    "                                 mutate(DQN_IV_OnOFF_4 = case_when(DQN_IV == 4 ~ 1, DQN_IV != 4  ~ 0)) \n",
    "\n",
    "dose_time_test = dose_test   %>% mutate(PHY_VP_OnOFF_0 = case_when(PHY_VP == 0 ~ 1, PHY_VP != 0  ~ 0)) %>% \n",
    "                                 mutate(PHY_IV_OnOFF_0 = case_when(PHY_IV == 0 ~ 1, PHY_IV != 0  ~ 0)) %>% \n",
    "                                 mutate(DQN_VP_OnOFF_0 = case_when(DQN_VP == 0 ~ 1, DQN_VP != 0  ~ 0)) %>% \n",
    "                                 mutate(DQN_IV_OnOFF_0 = case_when(DQN_IV == 0 ~ 1, DQN_IV != 0  ~ 0)) %>% \n",
    "                                 mutate(PHY_VP_OnOFF_1 = case_when(PHY_VP == 1 ~ 1, PHY_VP != 1  ~ 0)) %>% \n",
    "                                 mutate(PHY_IV_OnOFF_1 = case_when(PHY_IV == 1 ~ 1, PHY_IV != 1  ~ 0)) %>% \n",
    "                                 mutate(DQN_VP_OnOFF_1 = case_when(DQN_VP == 1 ~ 1, DQN_VP != 1  ~ 0)) %>% \n",
    "                                 mutate(DQN_IV_OnOFF_1 = case_when(DQN_IV == 1 ~ 1, DQN_IV != 1  ~ 0)) %>% \n",
    "                                 mutate(PHY_VP_OnOFF_2 = case_when(PHY_VP == 2 ~ 1, PHY_VP != 2  ~ 0)) %>% \n",
    "                                 mutate(PHY_IV_OnOFF_2 = case_when(PHY_IV == 2 ~ 1, PHY_IV != 2  ~ 0)) %>% \n",
    "                                 mutate(DQN_VP_OnOFF_2 = case_when(DQN_VP == 2 ~ 1, DQN_VP != 2  ~ 0)) %>% \n",
    "                                 mutate(DQN_IV_OnOFF_2 = case_when(DQN_IV == 2 ~ 1, DQN_IV != 2  ~ 0)) %>% \n",
    "                                 mutate(PHY_VP_OnOFF_3 = case_when(PHY_VP == 3 ~ 1, PHY_VP != 3  ~ 0)) %>% \n",
    "                                 mutate(PHY_IV_OnOFF_3 = case_when(PHY_IV == 3 ~ 1, PHY_IV != 3  ~ 0)) %>% \n",
    "                                 mutate(DQN_VP_OnOFF_3 = case_when(DQN_VP == 3 ~ 1, DQN_VP != 3  ~ 0)) %>% \n",
    "                                 mutate(DQN_IV_OnOFF_3 = case_when(DQN_IV == 3 ~ 1, DQN_IV != 3  ~ 0)) %>% \n",
    "                                 mutate(PHY_VP_OnOFF_4 = case_when(PHY_VP == 4 ~ 1, PHY_VP != 4  ~ 0)) %>% \n",
    "                                 mutate(PHY_IV_OnOFF_4 = case_when(PHY_IV == 4 ~ 1, PHY_IV != 4  ~ 0)) %>% \n",
    "                                 mutate(DQN_VP_OnOFF_4 = case_when(DQN_VP == 4 ~ 1, DQN_VP != 4  ~ 0)) %>% \n",
    "                                 mutate(DQN_IV_OnOFF_4 = case_when(DQN_IV == 4 ~ 1, DQN_IV != 4  ~ 0)) \n"
   ]
  },
  {
   "cell_type": "code",
   "execution_count": null,
   "metadata": {
    "vscode": {
     "languageId": "r"
    }
   },
   "outputs": [],
   "source": [
    "head(dose_time_test,2)"
   ]
  },
  {
   "cell_type": "code",
   "execution_count": null,
   "metadata": {
    "vscode": {
     "languageId": "r"
    }
   },
   "outputs": [],
   "source": [
    "########################\n",
    "### SUMMARISE DATA for Physician\n",
    "PHY_IV_time_train_melt = dose_time_train %>% group_by(relative_time) %>% \n",
    "                                           summarise(PHY_prop_IV_0 = mean(PHY_IV_OnOFF_0)*100,\n",
    "                                                     PHY_prop_IV_1 = mean(PHY_IV_OnOFF_1)*100, \n",
    "                                                     PHY_prop_IV_2 = mean(PHY_IV_OnOFF_2)*100, \n",
    "                                                     PHY_prop_IV_3 = mean(PHY_IV_OnOFF_3)*100,\n",
    "                                                     PHY_prop_IV_4 = mean(PHY_IV_OnOFF_4)*100,                                                                    \n",
    "                                                  ) %>% ungroup() \n",
    "\n",
    "PHY_IV_time_val_melt = dose_time_val %>% group_by(relative_time) %>% \n",
    "                                           summarise(PHY_prop_IV_0 = mean(PHY_IV_OnOFF_0)*100,\n",
    "                                                     PHY_prop_IV_1 = mean(PHY_IV_OnOFF_1)*100, \n",
    "                                                     PHY_prop_IV_2 = mean(PHY_IV_OnOFF_2)*100, \n",
    "                                                     PHY_prop_IV_3 = mean(PHY_IV_OnOFF_3)*100,\n",
    "                                                     PHY_prop_IV_4 = mean(PHY_IV_OnOFF_4)*100                                                              \n",
    "                                                  ) %>% ungroup() \n",
    "\n",
    "PHY_IV_time_test_melt = dose_time_test %>% group_by(relative_time) %>% \n",
    "                                           summarise(PHY_prop_IV_0 = mean(PHY_IV_OnOFF_0)*100,\n",
    "                                                     PHY_prop_IV_1 = mean(PHY_IV_OnOFF_1)*100, \n",
    "                                                     PHY_prop_IV_2 = mean(PHY_IV_OnOFF_2)*100, \n",
    "                                                     PHY_prop_IV_3 = mean(PHY_IV_OnOFF_3)*100,\n",
    "                                                     PHY_prop_IV_4 = mean(PHY_IV_OnOFF_4)*100                                                                  \n",
    "                                                  ) %>% ungroup() \n",
    "\n",
    "PHY_VP_time_train_melt = dose_time_train %>% group_by(relative_time) %>% \n",
    "                                           summarise(PHY_prop_VP_0 = mean(PHY_VP_OnOFF_0)*100,\n",
    "                                                     PHY_prop_VP_1 = mean(PHY_VP_OnOFF_1)*100, \n",
    "                                                     PHY_prop_VP_2 = mean(PHY_VP_OnOFF_2)*100, \n",
    "                                                     PHY_prop_VP_3 = mean(PHY_VP_OnOFF_3)*100,\n",
    "                                                     PHY_prop_VP_4 = mean(PHY_VP_OnOFF_4)*100                                                                    \n",
    "                                                  ) %>% ungroup() \n",
    "\n",
    "PHY_VP_time_val_melt = dose_time_val %>% group_by(relative_time) %>% \n",
    "                                           summarise(PHY_prop_VP_0 = mean(PHY_VP_OnOFF_0)*100,\n",
    "                                                     PHY_prop_VP_1 = mean(PHY_VP_OnOFF_1)*100, \n",
    "                                                     PHY_prop_VP_2 = mean(PHY_VP_OnOFF_2)*100, \n",
    "                                                     PHY_prop_VP_3 = mean(PHY_VP_OnOFF_3)*100,\n",
    "                                                     PHY_prop_VP_4 = mean(PHY_VP_OnOFF_4)*100                                                                     \n",
    "                                                  ) %>% ungroup() \n",
    "\n",
    "PHY_VP_time_test_melt = dose_time_test %>% group_by(relative_time) %>% \n",
    "                                           summarise(PHY_prop_VP_0 = mean(PHY_VP_OnOFF_0)*100,\n",
    "                                                     PHY_prop_VP_1 = mean(PHY_VP_OnOFF_1)*100, \n",
    "                                                     PHY_prop_VP_2 = mean(PHY_VP_OnOFF_2)*100, \n",
    "                                                     PHY_prop_VP_3 = mean(PHY_VP_OnOFF_3)*100,\n",
    "                                                     PHY_prop_VP_4 = mean(PHY_VP_OnOFF_4)*100                                                                    \n",
    "                                                  ) %>% ungroup()  \n"
   ]
  },
  {
   "cell_type": "code",
   "execution_count": null,
   "metadata": {
    "vscode": {
     "languageId": "r"
    }
   },
   "outputs": [],
   "source": [
    "head(PHY_IV_time_val_melt)"
   ]
  },
  {
   "cell_type": "code",
   "execution_count": null,
   "metadata": {
    "vscode": {
     "languageId": "r"
    }
   },
   "outputs": [],
   "source": [
    "########################\n",
    "### SUMMARISE DATA for DQN\n",
    "DQN_IV_time_train_melt = dose_time_train %>% group_by(relative_time) %>% \n",
    "                                           summarise(DQN_prop_IV_0 = mean(DQN_IV_OnOFF_0)*100,\n",
    "                                                     DQN_prop_IV_1 = mean(DQN_IV_OnOFF_1)*100,\n",
    "                                                     DQN_prop_IV_2 = mean(DQN_IV_OnOFF_2)*100,\n",
    "                                                     DQN_prop_IV_3 = mean(DQN_IV_OnOFF_3)*100, \n",
    "                                                     DQN_prop_IV_4 = mean(DQN_IV_OnOFF_4)*100                                                                      \n",
    "                                                  ) %>% ungroup() \n",
    "\n",
    "DQN_IV_time_val_melt = dose_time_val %>% group_by(relative_time) %>% \n",
    "                                           summarise(DQN_prop_IV_0 = mean(DQN_IV_OnOFF_0)*100,\n",
    "                                                     DQN_prop_IV_1 = mean(DQN_IV_OnOFF_1)*100,\n",
    "                                                     DQN_prop_IV_2 = mean(DQN_IV_OnOFF_2)*100,\n",
    "                                                     DQN_prop_IV_3 = mean(DQN_IV_OnOFF_3)*100, \n",
    "                                                     DQN_prop_IV_4 = mean(DQN_IV_OnOFF_4)*100                                                                       \n",
    "                                                  ) %>% ungroup() \n",
    "\n",
    "DQN_IV_time_test_melt = dose_time_test %>% group_by(relative_time) %>% \n",
    "                                           summarise(DQN_prop_IV_0 = mean(DQN_IV_OnOFF_0)*100,\n",
    "                                                     DQN_prop_IV_1 = mean(DQN_IV_OnOFF_1)*100,\n",
    "                                                     DQN_prop_IV_2 = mean(DQN_IV_OnOFF_2)*100,\n",
    "                                                     DQN_prop_IV_3 = mean(DQN_IV_OnOFF_3)*100, \n",
    "                                                     DQN_prop_IV_4 = mean(DQN_IV_OnOFF_4)*100                                                                       \n",
    "                                                  ) %>% ungroup() \n",
    "\n",
    "DQN_VP_time_train_melt = dose_time_train %>% group_by(relative_time) %>% \n",
    "                                           summarise(DQN_prop_VP_0 = mean(DQN_VP_OnOFF_0)*100,\n",
    "                                                     DQN_prop_VP_1 = mean(DQN_VP_OnOFF_1)*100,\n",
    "                                                     DQN_prop_VP_2 = mean(DQN_VP_OnOFF_2)*100,\n",
    "                                                     DQN_prop_VP_3 = mean(DQN_VP_OnOFF_3)*100, \n",
    "                                                     DQN_prop_VP_4 = mean(DQN_VP_OnOFF_4)*100                                                                       \n",
    "                                                  ) %>% ungroup() \n",
    "\n",
    "DQN_VP_time_val_melt = dose_time_val %>% group_by(relative_time) %>% \n",
    "                                           summarise(DQN_prop_VP_0 = mean(DQN_VP_OnOFF_0)*100,\n",
    "                                                     DQN_prop_VP_1 = mean(DQN_VP_OnOFF_1)*100,\n",
    "                                                     DQN_prop_VP_2 = mean(DQN_VP_OnOFF_2)*100,\n",
    "                                                     DQN_prop_VP_3 = mean(DQN_VP_OnOFF_3)*100, \n",
    "                                                     DQN_prop_VP_4 = mean(DQN_VP_OnOFF_4)*100                                                                      \n",
    "                                                  ) %>% ungroup() \n",
    "DQN_VP_time_test_melt = dose_time_test %>% group_by(relative_time) %>% \n",
    "                                           summarise(DQN_prop_VP_0 = mean(DQN_VP_OnOFF_0)*100,\n",
    "                                                     DQN_prop_VP_1 = mean(DQN_VP_OnOFF_1)*100,\n",
    "                                                     DQN_prop_VP_2 = mean(DQN_VP_OnOFF_2)*100,\n",
    "                                                     DQN_prop_VP_3 = mean(DQN_VP_OnOFF_3)*100, \n",
    "                                                     DQN_prop_VP_4 = mean(DQN_VP_OnOFF_4)*100                                                                       \n",
    "                                                  ) %>% ungroup() \n",
    "\n",
    "print(\"Data preprocessing done\")"
   ]
  },
  {
   "cell_type": "code",
   "execution_count": null,
   "metadata": {
    "vscode": {
     "languageId": "r"
    }
   },
   "outputs": [],
   "source": [
    "########################\n",
    "options(repr.plot.width=10, repr.plot.height=4)\n",
    "action_max = 44000\n",
    "head(DQN_VP_time_test_melt)"
   ]
  },
  {
   "cell_type": "code",
   "execution_count": null,
   "metadata": {
    "vscode": {
     "languageId": "r"
    }
   },
   "outputs": [],
   "source": [
    "# action matrix Physicians\n",
    "train_PHY_actionmatrix <- train %>% full_join(action_mappings, by = \"real_discrete_action\") %>% group_by(discrete_IV, discrete_VP, real_discrete_action) %>% summarise(action_count = n())\n",
    "AM_TRAIN_PHY = ggplot(train_PHY_actionmatrix, aes(discrete_VP, discrete_IV)) +\n",
    "    geom_raster(aes(fill = action_count)) + \n",
    "    geom_text(aes(label = round(action_count - 1, 3))) + \n",
    "    theme_minimal() +\n",
    "    scale_fill_gradient(low = \"white\", high = \"blue\", name = 'Action Count') + #, limit=c(0,action_max)) + \n",
    "    xlab('Maximum Vasopressor Dosage') + \n",
    "    ylab('Mean IV Fluids') + \n",
    "    ggtitle(label='Training - Physician action matrix')\n",
    "\n",
    "#\n",
    "# action matrix DQN\n",
    "train_DQN_actionmatrix <- train %>% full_join(DQN_action_mappings, by = \"DQN_discrete_action\") %>% group_by(discrete_IV, discrete_VP, DQN_discrete_action) %>% summarise(action_count = n())\n",
    "AM_TRAIN_DQN = ggplot(train_DQN_actionmatrix, aes(discrete_VP, discrete_IV)) +\n",
    "    geom_raster(aes(fill = action_count)) + \n",
    "    geom_text(aes(label = round(action_count - 1, 3))) + \n",
    "    theme_minimal() +\n",
    "    scale_fill_gradient(low = \"white\", high = \"orange\", name = 'Action Count') + #, limit=c(0,action_max)) + \n",
    "    xlab('Maximum Vasopressor Dosage') + \n",
    "    ylab('Mean IV Fluids') + \n",
    "    ggtitle(label='Training - Optimal policy action matrix')\n",
    "\n",
    "\n",
    "# action matrix Physicians\n",
    "val_PHY_actionmatrix <- val %>% full_join(action_mappings, by = \"real_discrete_action\") %>% group_by(discrete_IV, discrete_VP, real_discrete_action) %>% summarise(action_count = n())\n",
    "AM_VAL_PHY = ggplot(val_PHY_actionmatrix, aes(discrete_VP, discrete_IV)) +\n",
    "    geom_raster(aes(fill = action_count)) + \n",
    "    geom_text(aes(label = round(action_count - 1, 3))) + \n",
    "    theme_minimal() +\n",
    "    scale_fill_gradient(low = \"white\", high = \"blue\", name = 'Action Count') + #, limit=c(0,action_max)) + \n",
    "    xlab('Maximum Vasopressor Dosage') + \n",
    "    ylab('Mean IV Fluids') + \n",
    "    ggtitle(label='Validation - Physician action matrix')\n",
    "\n",
    "# action matrix DQN\n",
    "val_DQN_actionmatrix <- val %>% full_join(DQN_action_mappings, by = \"DQN_discrete_action\") %>% group_by(discrete_IV, discrete_VP, DQN_discrete_action) %>% summarise(action_count = n())\n",
    "AM_VAL_DQN = ggplot(val_DQN_actionmatrix, aes(discrete_VP, discrete_IV)) +\n",
    "    geom_raster(aes(fill = action_count)) + \n",
    "    geom_text(aes(label = round(action_count - 1, 3))) + \n",
    "    theme_minimal() +\n",
    "    scale_fill_gradient(low = \"white\", high = \"orange\", name = 'Action Count') + #, limit=c(0,action_max)) + \n",
    "    xlab('Maximum Vasopressor Dosage') + \n",
    "    ylab('Mean IV Fluids') + \n",
    "    ggtitle(label='Validation - Optimal policy action matrix')\n",
    "\n",
    "\n",
    "# action matrix Physicians\n",
    "test_PHY_actionmatrix <- test %>% full_join(action_mappings, by = \"real_discrete_action\") %>% group_by(discrete_IV, discrete_VP, real_discrete_action) %>% summarise(action_count = n())\n",
    "AM_TEST_PHY = ggplot(test_PHY_actionmatrix, aes(discrete_VP, discrete_IV)) +\n",
    "    geom_raster(aes(fill = action_count)) + \n",
    "    geom_text(aes(label = round(action_count - 1, 3))) + \n",
    "    theme_minimal() +\n",
    "    scale_fill_gradient(low = \"white\", high = \"blue\", name = 'Action Count') + #, limit=c(0,action_max)) + \n",
    "    xlab('Maximum Vasopressor Dosage') + \n",
    "    ylab('Mean IV Fluids') + \n",
    "    ggtitle(label='Test - Physician action matrix')\n",
    "\n",
    "# action matrix DQN\n",
    "test_DQN_actionmatrix <- test %>% full_join(DQN_action_mappings, by = \"DQN_discrete_action\") %>% group_by(discrete_IV, discrete_VP, DQN_discrete_action) %>% summarise(action_count = n())\n",
    "AM_TEST_DQN = ggplot(test_DQN_actionmatrix, aes(discrete_VP, discrete_IV)) +\n",
    "    geom_raster(aes(fill = action_count)) + \n",
    "    geom_text(aes(label = round(action_count - 1, 3))) + \n",
    "    theme_minimal() +\n",
    "    scale_fill_gradient(low = \"white\", high = \"orange\", name = 'Action Count') + # , limit=c(0,action_max)) + \n",
    "    xlab('Maximum Vasopressor Dosage') + \n",
    "    ylab('Mean IV Fluids') + \n",
    "    ggtitle(label='Test - Optimal policy action matrix')\n",
    "\n",
    "\n"
   ]
  },
  {
   "cell_type": "markdown",
   "metadata": {},
   "source": [
    "### Calculate action frequency % ( better readable than numbers)"
   ]
  },
  {
   "cell_type": "code",
   "execution_count": null,
   "metadata": {
    "vscode": {
     "languageId": "r"
    }
   },
   "outputs": [],
   "source": [
    "# Physician action % \n",
    "train_PHY_actionmatrix$action_frequency = round(train_PHY_actionmatrix$action_count/sum(train_PHY_actionmatrix$action_count) *100, 2)\n",
    "val_PHY_actionmatrix$action_frequency = round(val_PHY_actionmatrix$action_count/sum(val_PHY_actionmatrix$action_count) *100, 2)\n",
    "test_PHY_actionmatrix$action_frequency = round(test_PHY_actionmatrix$action_count/sum(test_PHY_actionmatrix$action_count) *100, 2)\n",
    "\n",
    "#DQN action frequency % \n",
    "train_DQN_actionmatrix$action_frequency = round(train_DQN_actionmatrix$action_count/sum(train_DQN_actionmatrix$action_count) *100, 2)\n",
    "val_DQN_actionmatrix$action_frequency = round(val_DQN_actionmatrix$action_count/sum(val_DQN_actionmatrix$action_count) *100, 2)\n",
    "test_DQN_actionmatrix$action_frequency = round(test_DQN_actionmatrix$action_count/sum(test_DQN_actionmatrix$action_count) *100, 2)\n",
    "\n"
   ]
  },
  {
   "cell_type": "code",
   "execution_count": null,
   "metadata": {
    "vscode": {
     "languageId": "r"
    }
   },
   "outputs": [],
   "source": [
    "### Plotting frequencies instead of counts\n",
    "# action matrix Physicians\n",
    "#train_PHY_actionmatrix <- train %>% full_join(action_mappings, by = \"real_discrete_action\") %>% group_by(discrete_IV, discrete_VP, real_discrete_action) %>% summarise(action_count = n())\n",
    "AM_TRAIN_PHY_FREQ = ggplot(train_PHY_actionmatrix, aes(discrete_VP, discrete_IV)) +\n",
    "    geom_raster(aes(fill = action_frequency)) + \n",
    "    geom_text(aes(label = round(action_frequency, 3))) + \n",
    "    theme_minimal() +\n",
    "    scale_fill_gradient(low = \"white\", high = \"blue\", name = 'Action Count %') + #, limit=c(0,action_max)) + \n",
    "    xlab('Maximum Vasopressor Dosage') + \n",
    "    ylab('Mean IV Fluids') + \n",
    "    ggtitle(label='Training - Physician action matrix')\n",
    "\n",
    "#\n",
    "# action matrix DQN\n",
    "#train_DQN_actionmatrix <- train %>% full_join(DQN_action_mappings, by = \"DQN_discrete_action\") %>% group_by(discrete_IV, discrete_VP, DQN_discrete_action) %>% summarise(action_count = n())\n",
    "AM_TRAIN_DQN_FREQ = ggplot(train_DQN_actionmatrix, aes(discrete_VP, discrete_IV)) +\n",
    "    geom_raster(aes(fill = action_frequency)) + \n",
    "    geom_text(aes(label = round(action_frequency, 3))) + \n",
    "    theme_minimal() +\n",
    "    scale_fill_gradient(low = \"white\", high = \"orange\", name = 'Action Count %') + #, limit=c(0,action_max)) + \n",
    "    xlab('Maximum Vasopressor Dosage') + \n",
    "    ylab('Mean IV Fluids') + \n",
    "    ggtitle(label='Training - Optimal policy action matrix')\n",
    "\n",
    "\n",
    "# action matrix Physicians\n",
    "#val_PHY_actionmatrix <- val %>% full_join(action_mappings, by = \"real_discrete_action\") %>% group_by(discrete_IV, discrete_VP, real_discrete_action) %>% summarise(action_count = n())\n",
    "AM_VAL_PHY_FREQ = ggplot(val_PHY_actionmatrix, aes(discrete_VP, discrete_IV)) +\n",
    "    geom_raster(aes(fill = action_frequency)) + \n",
    "    geom_text(aes(label = round(action_frequency, 3))) + \n",
    "    theme_minimal() +\n",
    "    scale_fill_gradient(low = \"white\", high = \"blue\", name = 'Action Count %') + #, limit=c(0,action_max)) + \n",
    "    xlab('Maximum Vasopressor Dosage') + \n",
    "    ylab('Mean IV Fluids') + \n",
    "    ggtitle(label='Validation - Physician action matrix')\n",
    "\n",
    "# action matrix DQN\n",
    "#val_DQN_actionmatrix <- val %>% full_join(DQN_action_mappings, by = \"DQN_discrete_action\") %>% group_by(discrete_IV, discrete_VP, DQN_discrete_action) %>% summarise(action_count = n())\n",
    "AM_VAL_DQN_FREQ = ggplot(val_DQN_actionmatrix, aes(discrete_VP, discrete_IV)) +\n",
    "    geom_raster(aes(fill = action_frequency)) + \n",
    "    geom_text(aes(label = round(action_frequency, 3))) + \n",
    "    theme_minimal() +\n",
    "    scale_fill_gradient(low = \"white\", high = \"orange\", name = 'Action Count %') + #, limit=c(0,action_max)) + \n",
    "    xlab('Maximum Vasopressor Dosage') + \n",
    "    ylab('Mean IV Fluids') + \n",
    "    ggtitle(label='Validation - Optimal policy action matrix')\n",
    "\n",
    "\n",
    "# action matrix Physicians\n",
    "#test_PHY_actionmatrix <- test %>% full_join(action_mappings, by = \"real_discrete_action\") %>% group_by(discrete_IV, discrete_VP, real_discrete_action) %>% summarise(action_count = n())\n",
    "AM_TEST_PHY_FREQ = ggplot(test_PHY_actionmatrix, aes(discrete_VP, discrete_IV)) +\n",
    "    geom_raster(aes(fill = action_frequency)) + \n",
    "    geom_text(aes(label = round(action_frequency, 3))) + \n",
    "    theme_minimal() +\n",
    "    scale_fill_gradient(low = \"white\", high = \"blue\", name = 'Action Count %') + #, limit=c(0,action_max)) + \n",
    "    xlab('Maximum Vasopressor Dosage') + \n",
    "    ylab('Mean IV Fluids') + \n",
    "    ggtitle(label='Test - Physician action matrix')\n",
    "\n",
    "# action matrix DQN\n",
    "#test_DQN_actionmatrix <- test %>% full_join(DQN_action_mappings, by = \"DQN_discrete_action\") %>% group_by(discrete_IV, discrete_VP, DQN_discrete_action) %>% summarise(action_count = n())\n",
    "AM_TEST_DQN_FREQ = ggplot(test_DQN_actionmatrix, aes(discrete_VP, discrete_IV)) +\n",
    "    geom_raster(aes(fill = action_frequency)) + \n",
    "    geom_text(aes(label = round(action_frequency, 3))) + \n",
    "    theme_minimal() +\n",
    "    scale_fill_gradient(low = \"white\", high = \"orange\", name = 'Action Count %') + # , limit=c(0,action_max)) + \n",
    "    xlab('Maximum Vasopressor Dosage') + \n",
    "    ylab('Mean IV Fluids') + \n",
    "    ggtitle(label='Test - Optimal policy action matrix')\n",
    "\n",
    "\n"
   ]
  },
  {
   "cell_type": "markdown",
   "metadata": {},
   "source": [
    "### Filter actions 48 hour after onset of sepsis "
   ]
  },
  {
   "cell_type": "code",
   "execution_count": null,
   "metadata": {
    "vscode": {
     "languageId": "r"
    }
   },
   "outputs": [],
   "source": [
    "#################################################\n",
    "### FILTERED\n",
    "\n",
    "# action matrix Physicians\n",
    "filt_train_PHY_actionmatrix <- train %>% filter(relative_time >= 24) %>% full_join(action_mappings, by = \"real_discrete_action\") %>% group_by(discrete_IV, discrete_VP, real_discrete_action) %>% summarise(action_count = n())\n",
    "filt_AM_TRAIN_PHY = ggplot(filt_train_PHY_actionmatrix, aes(discrete_VP, discrete_IV)) +\n",
    "    geom_raster(aes(fill = action_count)) + \n",
    "    geom_text(aes(label = round(action_count - 1, 3))) + \n",
    "    theme_minimal() +\n",
    "    scale_fill_gradient(low = \"white\", high = \"blue\", name = 'Action Count') + \n",
    "    xlab('Maximum Vasopressor Dosage') + \n",
    "    ylab('Mean IV Fluids') + \n",
    "    ggtitle(label='Training - Physician action matrix', subtitle = 'First 48H after sepsis onset')\n",
    "\n",
    "# action matrix DQN\n",
    "filt_train_DQN_actionmatrix <- train %>% filter(relative_time >= 24) %>% full_join(DQN_action_mappings, by = \"DQN_discrete_action\") %>% group_by(discrete_IV, discrete_VP, DQN_discrete_action) %>% summarise(action_count = n())\n",
    "filt_AM_TRAIN_DQN = ggplot(filt_train_DQN_actionmatrix, aes(discrete_VP, discrete_IV)) +\n",
    "    geom_raster(aes(fill = action_count)) + \n",
    "    geom_text(aes(label = round(action_count - 1, 3))) + \n",
    "    theme_minimal() +\n",
    "    scale_fill_gradient(low = \"white\", high = \"orange\", name = 'Action Count') + \n",
    "    xlab('Maximum Vasopressor Dosage') + \n",
    "    ylab('Mean IV Fluids') + \n",
    "    ggtitle(label='Training - Optimal policy action matrix', subtitle = 'First 48H after sepsis onset')\n",
    "\n",
    "# action matrix Physicians\n",
    "filt_val_PHY_actionmatrix <- val %>% filter(relative_time >= 24) %>% full_join(action_mappings, by = \"real_discrete_action\") %>% group_by(discrete_IV, discrete_VP, real_discrete_action) %>% summarise(action_count = n())\n",
    "filt_AM_VAL_PHY = ggplot(filt_val_PHY_actionmatrix, aes(discrete_VP, discrete_IV)) +\n",
    "    geom_raster(aes(fill = action_count)) + \n",
    "    geom_text(aes(label = round(action_count - 1, 3))) + \n",
    "    theme_minimal() +\n",
    "    scale_fill_gradient(low = \"white\", high = \"blue\", name = 'Action Count') + \n",
    "    xlab('Maximum Vasopressor Dosage') + \n",
    "    ylab('Mean IV Fluids') + \n",
    "    ggtitle(label='Validation - Physician action matrix', subtitle = 'First 48H after sepsis onset')\n",
    "\n",
    "# action matrix DQN\n",
    "filt_val_DQN_actionmatrix <- val %>% filter(relative_time >= 24) %>% full_join(DQN_action_mappings, by = \"DQN_discrete_action\") %>% group_by(discrete_IV, discrete_VP, DQN_discrete_action) %>% summarise(action_count = n())\n",
    "filt_AM_VAL_DQN = ggplot(filt_val_DQN_actionmatrix, aes(discrete_VP, discrete_IV)) +\n",
    "    geom_raster(aes(fill = action_count)) + \n",
    "    geom_text(aes(label = round(action_count - 1, 3))) + \n",
    "    theme_minimal() +\n",
    "    scale_fill_gradient(low = \"white\", high = \"orange\", name = 'Action Count') + \n",
    "    xlab('Maximum Vasopressor Dosage') + \n",
    "    ylab('Mean IV Fluids') + \n",
    "    ggtitle(label='Validation - Optimal policy action matrix', subtitle = 'First 48H after sepsis onset')\n",
    "\n",
    "# action matrix Physicians\n",
    "filt_test_PHY_actionmatrix <- test %>% filter(relative_time <= 60) %>% full_join(action_mappings, by = \"real_discrete_action\") %>% group_by(discrete_IV, discrete_VP, real_discrete_action) %>% summarise(action_count = n())\n",
    "filt_AM_TEST_PHY = ggplot(filt_test_PHY_actionmatrix, aes(discrete_VP, discrete_IV)) +\n",
    "    geom_raster(aes(fill = action_count)) + \n",
    "    geom_text(aes(label = round(action_count - 1, 3))) + \n",
    "    theme_minimal() +\n",
    "    scale_fill_gradient(low = \"white\", high = \"blue\", name = 'Action Count') + \n",
    "    xlab('Maximum Vasopressor Dosage') + \n",
    "    ylab('Mean IV Fluids') + \n",
    "    ggtitle(label = 'Test - Physician action matrix', subtitle = 'First 48H of admission')\n",
    "\n",
    "# action matrix DQN\n",
    "filt_test_DQN_actionmatrix <- test %>% filter(relative_time <= 60) %>% full_join(DQN_action_mappings, by = \"DQN_discrete_action\") %>% group_by(discrete_IV, discrete_VP, DQN_discrete_action) %>% summarise(action_count = n())\n",
    "filt_AM_TEST_DQN = ggplot(filt_test_DQN_actionmatrix, aes(discrete_VP, discrete_IV)) +\n",
    "    geom_raster(aes(fill = action_count)) + \n",
    "    geom_text(aes(label = round(action_count - 1, 3))) + \n",
    "    theme_minimal() +\n",
    "    scale_fill_gradient(low = \"white\", high = \"orange\", name = 'Action Count') + \n",
    "    xlab('Maximum Vasopressor Dosage') + \n",
    "    ylab('Mean IV Fluids') + \n",
    "    ggtitle(label = 'Test - Optimal policy action matrix', subtitle = 'First 48H of admission')\n"
   ]
  },
  {
   "cell_type": "markdown",
   "metadata": {},
   "source": [
    "### save plots"
   ]
  },
  {
   "cell_type": "code",
   "execution_count": null,
   "metadata": {
    "vscode": {
     "languageId": "r"
    }
   },
   "outputs": [],
   "source": [
    "    ########################\n",
    "    ### SAFE ACTION MATRIX PNG\n",
    "    options(repr.plot.width=18, repr.plot.height=8)\n",
    "    #png(filename = paste0(figuresdir, exp_name, '_', \"Multiplot_ActionMatrix.png\"), width = 18, height = 8, units = \"in\", res = 300, pointsize=6)\n",
    "    suppressWarnings(multiplot(AM_TRAIN_PHY, AM_TRAIN_DQN, AM_VAL_PHY, AM_VAL_DQN, AM_TEST_PHY, AM_TEST_DQN, cols=3))\n",
    "    #dev.off()\n",
    "\n",
    "    ########################\n",
    "    ### SAFE FILTERED ACTION MATRIX PNG\n",
    "   # options(repr.plot.width=18, repr.plot.height=8)\n",
    "   # png(filename = paste(figuresdir, exp_name, '_', \"Multiplot_ActionMatrix_FILT.png\"), width = 18, height = 8, units = \"in\", res = 400, pointsize=6)\n",
    "   # suppressWarnings(multiplot(filt_AM_TRAIN_PHY, filt_AM_TRAIN_DQN, filt_AM_VAL_PHY, filt_AM_VAL_DQN, filt_AM_TEST_PHY, filt_AM_TEST_DQN, cols=3))\n",
    "    #dev.off()\n",
    "    \n",
    "    ### Plot frequencies instead of counts \n",
    "    options(repr.plot.width=18, repr.plot.height=8)\n",
    "    #png(filename = paste0(figuresdir, exp_name, '_', \"Multiplot_ActionMatrix_FREQ.png\"), width = 18, height = 8, units = \"in\", res = 300, pointsize=6)\n",
    "    suppressWarnings(multiplot(AM_TRAIN_PHY_FREQ, AM_TRAIN_DQN_FREQ, AM_VAL_PHY_FREQ, AM_VAL_DQN_FREQ, AM_TEST_PHY_FREQ, AM_TEST_DQN_FREQ, cols=3))\n",
    "    #dev.off()\n",
    "\n",
    "\n",
    "\n",
    "   "
   ]
  },
  {
   "cell_type": "code",
   "execution_count": null,
   "metadata": {
    "vscode": {
     "languageId": "r"
    }
   },
   "outputs": [],
   "source": [
    "### Plot frequencies instead of counts \n",
    "options(repr.plot.width=12, repr.plot.height=8)\n",
    "png(filename = paste0(figuresdir, exp_name, '_', \"Multiplot_ActionMatrix_percent.png\"), width = 18, height = 8, units = \"in\", res = 300, pointsize=6)\n",
    "suppressWarnings(multiplot(AM_VAL_PHY_FREQ, AM_VAL_DQN_FREQ, AM_TEST_PHY_FREQ, AM_TEST_DQN_FREQ, cols=2))\n",
    "dev.off()\n"
   ]
  },
  {
   "cell_type": "markdown",
   "metadata": {},
   "source": [
    "#### Plot Mortality "
   ]
  },
  {
   "cell_type": "code",
   "execution_count": null,
   "metadata": {
    "vscode": {
     "languageId": "r"
    }
   },
   "outputs": [],
   "source": [
    "train_opt <- read_csv(paste0(exp_data_path, 'DQN_Qvalues_traindata.csv'), col_types=cols()) %>% select(phy_action_Qvalue, best_action_Qvalue)\n",
    "val_opt <- read_csv(paste0(exp_data_path, 'DQN_Qvalues_valdata.csv'), col_types=cols())  %>% select(phy_action_Qvalue, best_action_Qvalue)\n",
    "test_opt <- read_csv(paste0(exp_data_path, 'DQN_Qvalues_testdata.csv'), col_types=cols()) %>% select(phy_action_Qvalue, best_action_Qvalue)\n",
    "\n",
    "train_opt$Discharge = train_data$Discharge\n",
    "train_opt$interval_start_time = train_data$interval_start_time\n",
    "train_opt$interval_end_time = train_data$interval_end_time\n",
    "train_opt$icustay_id = train_data$icustay_id\n",
    "\n",
    "test_opt$Discharge = test_data$Discharge\n",
    "test_opt$interval_start_time = test_data$interval_start_time\n",
    "test_opt$interval_end_time = test_data$interval_end_time\n",
    "test_opt$icustay_id = test_data$icustay_id\n",
    "\n",
    "val_opt$Discharge = val_data$Discharge\n",
    "val_opt$interval_start_time = val_data$interval_start_time\n",
    "val_opt$interval_end_time = val_data$interval_end_time\n",
    "val_opt$icustay_id = val_data$icustay_id\n",
    "\n"
   ]
  },
  {
   "cell_type": "markdown",
   "metadata": {},
   "source": [
    "#### Mortality plot ( only for validation set )"
   ]
  },
  {
   "cell_type": "code",
   "execution_count": null,
   "metadata": {
    "vscode": {
     "languageId": "r"
    }
   },
   "outputs": [],
   "source": [
    "temp <- val_opt %>%\n",
    "        group_by(icustay_id) %>%\n",
    "        mutate(relative_time = difftime(interval_start_time, min(interval_start_time) + hours(24), units = 'hours')) %>%\n",
    "        ungroup() \n",
    "\n",
    "\n",
    "PHY_mortality <- temp %>%\n",
    "        ggplot(aes(relative_time, phy_action_Qvalue, color = as.factor(Discharge))) +\n",
    "        geom_smooth() + \n",
    "        xlab('Relative Hours') +\n",
    "        ylab('Predicted Q for Physician Policy') + \n",
    "        scale_color_discrete('Died in Hospital', labels = c('No', 'Yes')) + \n",
    "        theme_bw() + \n",
    "        theme(legend.position = c(0.1, 0.2),\n",
    "              legend.key = element_blank()) +\n",
    "        scale_x_continuous(breaks = c(-24, -12, 0, 12, 24, 36, 48), limits = c(-24, 48))\n",
    "\n",
    "optmal_mortality <- temp %>%\n",
    "        ggplot(aes(relative_time, best_action_Qvalue, color = as.factor(Discharge))) +\n",
    "        geom_smooth() + \n",
    "        xlab('Relative Hours') +\n",
    "        ylab('Predicted Q for Optimal Policy') + \n",
    "        scale_color_discrete('Died in Hospital', labels = c('No', 'Yes')) + \n",
    "        theme_bw() + \n",
    "        theme(legend.position = c(0.1, 0.2),\n",
    "              legend.key = element_blank()) +\n",
    "        scale_x_continuous(breaks = c(-24, -12, 0, 12, 24, 36, 48), limits = c(-24, 48))\n",
    "temp2 <- temp %>% gather(Q_type, value = Q, phy_action_Qvalue, best_action_Qvalue)\n",
    "\n",
    "combine_plot <- temp2 %>%\n",
    "        ggplot(aes(relative_time, Q, \n",
    "                   color = as.factor(Discharge),\n",
    "                   shape = Q_type)) +\n",
    "        geom_smooth() + \n",
    "        xlab('Relative Hours') +\n",
    "        ylab('Predicted Q') + \n",
    "        scale_color_discrete('Died in Hospital', labels = c('No', 'Yes')) + \n",
    "        theme_bw() + \n",
    "        theme(legend.position = c(0.1, .2),\n",
    "              legend.key = element_blank()) +\n",
    "        scale_x_continuous(breaks = c(-24, -12, 0, 12, 24, 36, 48), limits = c(-24, 48)) #+\n",
    "        #annotate('text', label = 'Optimal', x = 47, y = 10) + \n",
    "        #annotate('text', label = 'Optimal', x = 47, y = 10) + \n",
    "        #annotate('text', label = 'Physician', x = 47, y = 10) + \n",
    "        #annotate('text', label = 'Physician', x = 47, y = 9) #+ \n",
    "#         ylim(10, 15)\n",
    "### Plot frequencies instead of counts \n",
    "    options(repr.plot.width=18, repr.plot.height=8)\n",
    "    #png(filename = paste0(figuresdir, exp_name, '_', \"Multiplot_Mortality_Validation.png\"), width = 18, height = 8, units = \"in\", res = 300, pointsize=6)\n",
    "    suppressWarnings(multiplot(PHY_mortality,  combine_plot, optmal_mortality, cols=2))\n",
    "    #dev.off()"
   ]
  },
  {
   "cell_type": "markdown",
   "metadata": {},
   "source": [
    "Q Calibrartion plotm"
   ]
  },
  {
   "cell_type": "code",
   "execution_count": null,
   "metadata": {
    "vscode": {
     "languageId": "r"
    }
   },
   "outputs": [],
   "source": [
    "### TO DO: looks like cumulative lineplot (change aesthetics)\n",
    "\n",
    "# set X min and max for plot axis\n",
    "xlim_min = -15\n",
    "xlim_max = 15\n",
    "\n",
    "# set the granularity of the binning\n",
    "floor_dec <- function(x, level=1) round(x - 5*10^(-level-1), level)\n",
    "\n",
    "PHYQ_train_plot_df <- train_opt %>% \n",
    "                mutate(bin_Q = floor_dec(phy_action_Qvalue)) %>%\n",
    "                group_by(bin_Q) %>%\n",
    "                summarise(prop_dead = mean(((Discharge*-1)+1)),sd_dead = sd(Discharge)/sqrt(n()))\n",
    "PHYQ_train_plot_df$count = data.frame(table(floor_dec(train_opt$phy_action_Qvalue)))$Freq\n",
    "\n",
    "\n",
    "PHYQ_val_plot_df <- val_opt %>% \n",
    "                mutate(bin_Q = floor_dec(phy_action_Qvalue)) %>%\n",
    "                group_by(bin_Q) %>%\n",
    "                summarise(prop_dead = mean(((Discharge*-1)+1)),sd_dead = sd(Discharge)/sqrt(n()))\n",
    "PHYQ_val_plot_df$count = data.frame(table(floor_dec(val_opt$phy_action_Qvalue)))$Freq\n",
    "\n",
    "\n",
    "PHYQ_test_plot_df <- test_opt %>% \n",
    "                mutate(bin_Q = floor_dec(phy_action_Qvalue)) %>%\n",
    "                group_by(bin_Q) %>%\n",
    "                summarise(prop_dead = mean(((Discharge*-1)+1)),sd_dead = sd(Discharge)/sqrt(n()))\n",
    "PHYQ_test_plot_df$count = data.frame(table(floor_dec(test_opt$phy_action_Qvalue)))$Freq\n",
    "\n",
    "PHYQ_train_survival = ggplot(data=PHYQ_train_plot_df, aes(x = bin_Q, y = prop_dead*100)) + \n",
    "                geom_line(aes(y=prop_dead*100), alpha=0.3) +\n",
    "                geom_smooth(span = 0.4,method = 'loess', formula = y ~ x, se = FALSE, level=0.5) +\n",
    "                geom_bar(aes(y=count/60), stat=\"identity\") + \n",
    "                scale_y_continuous(sec.axis = sec_axis(~.*60, name = \"\")) +\n",
    "                xlim(-5,10) + theme_bw() +\n",
    "                ggtitle(subtitle='MIMIC training dataset', label = 'Physician Q value - mortality calibration') + \n",
    "                ylab('% Patient survival') + xlab('Q value')\n",
    "\n",
    "PHYQ_val_survival = ggplot(PHYQ_val_plot_df, aes(x = bin_Q, y = prop_dead*100)) + \n",
    "                geom_line(aes(y=prop_dead*100), alpha=0.3) +\n",
    "                geom_smooth(span = 0.4,method = 'loess', formula = y ~ x, se = FALSE, level=0.5) +\n",
    "                geom_bar(aes(y=count/30), stat=\"identity\") + \n",
    "                scale_y_continuous(sec.axis = sec_axis(~.*30, name = \"\")) +\n",
    "                xlim(-5,10) + theme_bw() +\n",
    "                ggtitle(subtitle='MIMIC validation dataset', label = 'Physician Q value - mortality calibration') + \n",
    "                ylab('') + xlab('Q value')\n",
    "\n",
    "PHYQ_test_survival = ggplot(PHYQ_test_plot_df, aes(x = bin_Q, y = prop_dead*100)) + \n",
    "                geom_line(aes(y=prop_dead*100), alpha=0.3) +\n",
    "                geom_smooth(span = 0.4,method = 'loess', formula = y ~ x, se = FALSE, level=0.5) +\n",
    "                geom_bar(aes(y=count/30), stat=\"identity\") + \n",
    "                scale_y_continuous(sec.axis = sec_axis(~.*30, name = \"Q Value count\")) +\n",
    "                xlim(-5,10) + theme_bw() +\n",
    "                ggtitle(subtitle='MIMIC CareVue Test dataset', label = 'Physician Q value - mortality calibration') + \n",
    "                ylab('') + xlab('Q value')\n",
    "\n",
    "options(repr.plot.width=15, repr.plot.height=5)\n",
    "#png(filename = paste0(figuresdir, exp_name, '_', \"Multiplot_Calibration_PHY_Qvalue.png\"), width = 12, height = 5, units = \"in\", res = 400, pointsize=6)\n",
    "suppressWarnings(multiplot(PHYQ_train_survival, PHYQ_val_survival, PHYQ_test_survival, cols=3))\n",
    "#dev.off()"
   ]
  },
  {
   "cell_type": "markdown",
   "metadata": {},
   "source": [
    "### Dose initiation"
   ]
  },
  {
   "cell_type": "code",
   "execution_count": null,
   "metadata": {
    "vscode": {
     "languageId": "r"
    }
   },
   "outputs": [],
   "source": [
    "library('RColorBrewer')"
   ]
  },
  {
   "cell_type": "code",
   "execution_count": null,
   "metadata": {
    "vscode": {
     "languageId": "r"
    }
   },
   "outputs": [],
   "source": [
    "########################\n",
    "### create dataframes with % of actions above 0 (VP>0 and IV>0), except for test set, use IV>mode(IV)\n",
    "NOdose_time_train = dose_train %>% mutate(PHY_VP_OnOFF = case_when(PHY_VP > 0 ~ 1, PHY_VP == 0  ~ 0)) %>% \n",
    "                                 mutate(PHY_IV_OnOFF = case_when(PHY_IV > 0  ~ 1, PHY_IV == 0  ~ 0)) %>% \n",
    "                                 mutate(DQN_VP_OnOFF = case_when(DQN_VP > 0 ~ 1, DQN_VP == 0  ~ 0)) %>% \n",
    "                                 mutate(DQN_IV_OnOFF = case_when(DQN_IV > 0 ~ 1, DQN_IV == 0  ~ 0)) %>%\n",
    "                                 group_by(relative_time) %>% summarise(  PHY_prop_VP = mean(PHY_VP_OnOFF)*100, \n",
    "                                                                         PHY_prop_IV = mean(PHY_IV_OnOFF)*100,\n",
    "                                                                         DQN_prop_VP = mean(DQN_VP_OnOFF)*100, \n",
    "                                                                         DQN_prop_IV = mean(DQN_IV_OnOFF)*100,\n",
    "                                                                      ) %>% ungroup() \n",
    "\n",
    "NOdose_time_val   = dose_val   %>% mutate(PHY_VP_OnOFF = case_when(PHY_VP > 0 ~ 1, PHY_VP == 0  ~ 0)) %>% \n",
    "                                 mutate(PHY_IV_OnOFF = case_when(PHY_IV > 0  ~ 1, PHY_IV == 0  ~ 0)) %>% \n",
    "                                 mutate(DQN_VP_OnOFF = case_when(DQN_VP > 0 ~ 1, DQN_VP == 0  ~ 0)) %>% \n",
    "                                 mutate(DQN_IV_OnOFF = case_when(DQN_IV > 0 ~ 1, DQN_IV == 0  ~ 0)) %>%\n",
    "                                 group_by(relative_time) %>% summarise(  PHY_prop_VP = mean(PHY_VP_OnOFF)*100, \n",
    "                                                                         PHY_prop_IV = mean(PHY_IV_OnOFF)*100,\n",
    "                                                                         DQN_prop_VP = mean(DQN_VP_OnOFF)*100, \n",
    "                                                                         DQN_prop_IV = mean(DQN_IV_OnOFF)*100,\n",
    "                                                                      ) %>% ungroup() \n",
    "\n",
    "NOdose_time_test  = dose_test  %>% mutate(PHY_VP_OnOFF = case_when(PHY_VP > 0 ~ 1, PHY_VP == 0  ~ 0)) %>% \n",
    "                                 mutate(PHY_IV_OnOFF = case_when(PHY_IV >= 3  ~ 1, PHY_IV < 3  ~ 0)) %>% \n",
    "                                 mutate(DQN_VP_OnOFF = case_when(DQN_VP > 0 ~ 1, DQN_VP == 0  ~ 0)) %>% \n",
    "                                 mutate(DQN_IV_OnOFF = case_when(DQN_IV >= 3 ~ 1, DQN_IV < 3  ~ 0)) %>% \n",
    "                                 group_by(relative_time) %>% summarise(  PHY_prop_VP = mean(PHY_VP_OnOFF)*100, \n",
    "                                                                         PHY_prop_IV = mean(PHY_IV_OnOFF)*100,\n",
    "                                                                         DQN_prop_VP = mean(DQN_VP_OnOFF)*100, \n",
    "                                                                         DQN_prop_IV = mean(DQN_IV_OnOFF)*100,\n",
    "                                                                      ) %>% ungroup() \n",
    "\n",
    "### quick and dirty fix\n",
    "NOdose_time_train = NOdose_time_train[complete.cases(NOdose_time_train), ] %>% gather(key,value, 2:5)\n",
    "NOdose_time_val = NOdose_time_val[complete.cases(NOdose_time_val), ] %>% gather(key,value, 2:5)\n",
    "NOdose_time_test = NOdose_time_test[complete.cases(NOdose_time_test), ] %>% gather(key,value, 2:5)\n",
    "\n",
    "########################\n",
    "### CREATE PLOTS\n",
    "myColors <- brewer.pal(9,\"Greens\")\n",
    "myColors2 <- brewer.pal(9,\"Reds\")\n",
    "myColors3 = rbind(myColors[8],myColors2[8],myColors[3],myColors2[3])\n",
    "names(myColors3) <- levels(as.factor(NOdose_time_train$key))\n",
    "colScale <- scale_colour_manual(name = \"Actions:\",values = myColors3, labels = c('Optimal policy Fluids', 'Optimal policy Vasopressors', 'Physician Fluids ', 'Physician Vasopressors'))\n",
    "dose_time_train_plot = NOdose_time_train %>% ggplot(aes(relative_time-24, value, color = as.factor(key))) +\n",
    "                                            geom_smooth(method=\"loess\", se=TRUE, span=0.4) + colScale + scale_x_continuous() +\n",
    "                                            xlab('Relative Hours') +\n",
    "                                            ylab('% patients on treatment') + ylim(0,100) +\n",
    "                                            ggtitle(subtitle='MIMIC Training dataset', label='Treatment progression') + theme_bw() +\n",
    "                                            scale_x_continuous(breaks = c(-24,-12, 0, 12, 24, 36, 48, 60, 72), limits = c(-24, 72))  \n",
    "\n",
    "dose_time_val_plot = NOdose_time_val %>%     ggplot(aes(relative_time-24, value, color = as.factor(key))) + \n",
    "                                            geom_smooth(method=\"loess\", se=TRUE, span=0.4) + colScale + scale_x_continuous() +\n",
    "                                            xlab('Relative Hours') +\n",
    "                                            ylab('') + ylim(0,100) +\n",
    "                                            ggtitle(subtitle='MIMIC Validation dataset', label='Treatment progression') + theme_bw() +\n",
    "                                            scale_x_continuous(breaks = c(-24,-12, 0, 12, 24, 36, 48, 60, 72), limits = c(-24, 72))  \n",
    "\n",
    "colScale <- scale_colour_manual(name = \"Actions:\",values = myColors3, labels = c('Optimal policy Fluids', 'Optimal policy Vasopressors', 'Physician Fluids ', 'Physician Vasopressors'))\n",
    "dose_time_test_plot = NOdose_time_test %>%   ggplot(aes(relative_time, value, color = as.factor(key))) +\n",
    "                                            geom_smooth(method=\"loess\", se=TRUE, span=0.4) + colScale + scale_x_continuous() +\n",
    "                                            xlab('Relative Hours') +\n",
    "                                            ylab('') + ylim(0,105) +\n",
    "                                            ggtitle(subtitle='MIMIC test dataset', label='Treatment progression') + theme_bw() +\n",
    "                                            scale_x_continuous(breaks = c(-24,-12, 0, 12, 24, 36, 48, 60, 72), limits = c(-24, 72))  \n"
   ]
  },
  {
   "cell_type": "code",
   "execution_count": null,
   "metadata": {
    "vscode": {
     "languageId": "r"
    }
   },
   "outputs": [],
   "source": [
    "options(repr.plot.width=15, repr.plot.height=5)\n",
    "#png(filename = paste0(figuresdir, exp_name, '_', \"Multiplot_Calibration_PHY_Qvalue.png\"), width = 12, height = 5, units = \"in\", res = 400, pointsize=6)\n",
    "suppressWarnings(multiplot(dose_time_train_plot, dose_time_val_plot, dose_time_test_plot, cols=3))"
   ]
  }
 ],
 "metadata": {
  "interpreter": {
   "hash": "6fb725ce1110da6996a591c822f6ef0d2166e32afa9e21a2c3c1768b1216e69b"
  },
  "kernelspec": {
   "display_name": "R",
   "language": "R",
   "name": "ir"
  },
  "language_info": {
   "codemirror_mode": "r",
   "file_extension": ".r",
   "mimetype": "text/x-r-source",
   "name": "R",
   "pygments_lexer": "r",
   "version": "3.6.1"
  },
  "orig_nbformat": 4
 },
 "nbformat": 4,
 "nbformat_minor": 2
}
