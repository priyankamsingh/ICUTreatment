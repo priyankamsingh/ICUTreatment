{
 "cells": [
  {
   "cell_type": "markdown",
   "metadata": {},
   "source": [
    "###\n",
    "Extract Data 4hour  "
   ]
  },
  {
   "cell_type": "code",
   "execution_count": null,
   "metadata": {},
   "outputs": [],
   "source": [
    "#library\n",
    "library(tidyverse)\n",
    "#set directory for  tables\n",
    "sqldir = '../sqltables/'\n",
    "outdir = '../processed_mimic/'"
   ]
  },
  {
   "cell_type": "code",
   "execution_count": null,
   "metadata": {},
   "outputs": [],
   "source": [
    "##get cohort to define time interval \n",
    "cohort_df <- read_csv(paste0(sqldir, 'cohort.csv'), col_types=cols()) %>% select(-X1)\n",
    "dim(cohort_df)\n",
    "head(cohort_df,2)\n",
    "timew = '4 hour'\n",
    "########################\n",
    "# DATA TRANSFORMATIONS\n",
    "get_time_intervals <- function(start, end) {\n",
    "  interval_times <- seq(start, end, by = timew)\n",
    "  interval_start_time <- interval_times[1:length(interval_times) -1]\n",
    "  interval_end_time <- interval_times[2:length(interval_times)]\n",
    "  return(data.frame(interval_start_time, interval_end_time))\n",
    "}\n",
    "interval_times_df <- cohort_df %>% \n",
    "  group_by(subject_id, hadm_id, icustay_id) %>% \n",
    "  do(get_time_intervals(.$window_start, .$window_end))\n",
    "\n",
    "# Visual check\n",
    "dim(interval_times_df)"
   ]
  },
  {
   "cell_type": "markdown",
   "metadata": {},
   "source": [
    "### Processing Vassopressor "
   ]
  },
  {
   "cell_type": "code",
   "execution_count": null,
   "metadata": {},
   "outputs": [],
   "source": [
    "# Load some vassopressors\n",
    "vassopressor_cv_df <- read_csv(paste0(sqldir, 'vassopressors_cv_cohort.csv'),\n",
    "                              col_types=cols())\n",
    "vassopressor_mv_df <- read_csv(paste0(sqldir, 'vassopressors_mv_cohort.csv'),\n",
    "                              col_types=cols())\n",
    "\n",
    "#load cv vasso\n",
    "max_vassopressor_cv <- interval_times_df %>% \n",
    "  left_join(vassopressor_cv_df) %>% \n",
    "  group_by(subject_id, \n",
    "           hadm_id, \n",
    "           icustay_id, \n",
    "           interval_start_time, \n",
    "           interval_end_time) %>%\n",
    "  filter(charttime > interval_start_time & charttime <= interval_end_time) %>%\n",
    "  summarise(max_amount = max(mcgkgmin),\n",
    "  median_vaso_dose = median(mcgkgmin)) %>% mutate(max_amount = case_when(max_amount > 1e-02 ~ max_amount, TRUE ~ 0))\n",
    "\n",
    " #load mv vasso\n",
    "max_vassopressor_mv <- interval_times_df %>% \n",
    "  left_join(vassopressor_mv_df) %>% \n",
    "  group_by(subject_id, \n",
    "           hadm_id, \n",
    "           icustay_id, \n",
    "           interval_start_time, \n",
    "           interval_end_time) %>%\n",
    "  filter(endtime > interval_start_time & endtime <= interval_end_time) %>%\n",
    "  summarise(max_amount = max(mcgkgmin),\n",
    "  median_vaso_dose = median(mcgkgmin) ) %>% mutate(max_amount = case_when(max_amount > 1e-02 ~ max_amount, TRUE ~ 0)) \n",
    "  "
   ]
  },
  {
   "cell_type": "code",
   "execution_count": null,
   "metadata": {},
   "outputs": [],
   "source": [
    "# A function to map the data to quartiles\n",
    "num2quartile <- function(x) {\n",
    "  #     x <- x[is.na(x)]\n",
    "  quants <- quantile(x, probs=0:4/4, na.rm = TRUE)\n",
    "  print(round(quants,5))\n",
    "  return(as.integer(cut(x, quants, include.lowest=TRUE)))\n",
    "}\n",
    "MIMIC_MV_VP_Quantiles = num2quartile(max_vassopressor_mv$max_amount)\n",
    "\n",
    "# Map to discrete vassopressor states\n",
    "temp_VP <- max_vassopressor_cv %>% \n",
    "  full_join(max_vassopressor_mv) %>%\n",
    "  filter(!is.na(max_amount)) %>% \n",
    "  filter(!is.na(median_vaso_dose))"
   ]
  },
  {
   "cell_type": "code",
   "execution_count": null,
   "metadata": {},
   "outputs": [],
   "source": [
    "vpbreak = c(-Inf,0, 0.110, 0.225, 0.450, Inf) # 4hourssetting\n",
    "\n",
    "# merge vasopressor with interval_times (essentialy adds empty interval times that were left out in the initial max_vasopressor_mv join)\n",
    "action_df_VP <- temp_VP %>% right_join(interval_times_df) %>% group_by(subject_id, hadm_id, icustay_id, interval_start_time, interval_end_time) %>% summarise(max_amount = max(max_amount), median_vaso_dose = median(median_vaso_dose)) \n",
    "\n",
    "### add action MIMIC\n",
    "action_df_VP$discrete_VP <- as.integer(cut(action_df_VP$max_amount, breaks = vpbreak))-1 \n",
    "\n",
    "# Change NA to zero's\n",
    "action_df_VP$max_amount[is.na(action_df_VP$max_amount)] <- 0\n",
    "action_df_VP$discrete_VP[is.na(action_df_VP$discrete_VP)] <- 0\n",
    "action_df_VP$median_vaso_dose[is.na(action_df_VP$median_vaso_dose)] <- 0\n",
    "\n",
    "\n",
    "# Visual inspection\n",
    "head(action_df_VP,2)\n",
    "nrow(action_df_VP)\n",
    "table(action_df_VP$discrete_VP)"
   ]
  },
  {
   "cell_type": "markdown",
   "metadata": {},
   "source": [
    "### Process fluids"
   ]
  },
  {
   "cell_type": "code",
   "execution_count": null,
   "metadata": {},
   "outputs": [],
   "source": [
    "#processing fluids \n",
    "########################\n",
    "# Pulling out some data.table stuff to go FAST\n",
    "library(data.table)\n",
    "interval_times_dt <- as.data.table(interval_times_df, key = 'icustay_id')\n",
    "head(interval_times_dt,2)\n",
    "##import carevue fluids \n",
    "########################\n",
    "# load CAREVUE FLUIDS\n",
    "inputevents_cv_df <- read_csv(paste0(sqldir, 'inputevents_cv_cohort.csv'),\n",
    "                             col_types=cols())\n",
    "ie_filt_cv <- inputevents_cv_df %>% filter(amountuom == 'ml' & !is.na(amount) & amount >= 0 & amount <= 5000)\n",
    "ie_filt_cv_dt <- as.data.table(ie_filt_cv, key = 'icustay_id')\n",
    "\n",
    "# preprocess CAREVUE FLUIDS\n",
    "total_IV_cv <- interval_times_dt %>% \n",
    "  merge(ie_filt_cv_dt, allow.cartesian = TRUE) %>% \n",
    "  group_by(subject_id,\n",
    "           hadm_id, \n",
    "           icustay_id, \n",
    "           interval_start_time, \n",
    "           interval_end_time) %>%\n",
    "  filter(charttime > interval_start_time & charttime <= interval_end_time) %>%\n",
    "  summarise(total_amount = sum(amount))\n",
    "\n",
    "  # Load the MV fluids\n",
    "# Load the fluids\n",
    "inputevents_mv_df <- read_csv(paste0(sqldir, 'inputevents_mv_cohort.csv'))\n",
    "\n",
    "\n",
    "MV_input = inputevents_mv_df %>% select(subject_id, icustay_id, hadm_id, starttime, endtime, \n",
    "                                        amount, amountuom, rate, rateuom, orderid, ordercategoryname, \n",
    "                                        secondaryordercategoryname, patientweight, totalamount) %>% \n",
    "                                 filter(amountuom == 'ml' & ordercategoryname != '14-Oral/Gastric Intake' & !is.na(amount) & amount > 0 & amount < 5000) %>% \n",
    "                                 mutate(duration = as.numeric(c(difftime(endtime, starttime)))) %>% \n",
    "                                 mutate(amount = round(amount,2)) %>% \n",
    "                                 select(-rate, -rateuom,-orderid,-ordercategoryname,-secondaryordercategoryname,-patientweight, -amountuom,-totalamount)\n",
    "head(MV_input)"
   ]
  },
  {
   "cell_type": "markdown",
   "metadata": {},
   "source": [
    " ### Processing metavision fluids"
   ]
  },
  {
   "cell_type": "markdown",
   "metadata": {},
   "source": [
    "### 1. METAVISION IV dose started before interval and ended after interval"
   ]
  },
  {
   "cell_type": "code",
   "execution_count": null,
   "metadata": {},
   "outputs": [],
   "source": [
    "total_IV_during <- interval_times_dt %>% left_join(MV_input, allow.cartesian = TRUE) %>% group_by(subject_id, icustay_id, hadm_id, interval_start_time, interval_end_time) %>%\n",
    "                   filter(starttime < interval_start_time & endtime > interval_end_time) \n",
    "\n",
    "all_IV_during <- total_IV_during %>% mutate(total_amount_during = as.numeric(interval_end_time-interval_start_time) * (amount/duration))\n",
    "\n",
    "all_IV_during <- all_IV_during %>% select(subject_id, icustay_id, hadm_id, interval_start_time, interval_end_time, total_amount_during) %>% \n",
    "                                   group_by(subject_id, icustay_id, hadm_id, interval_start_time ,interval_end_time) %>% \n",
    "                                   summarise(total_amount = sum(total_amount_during))\n"
   ]
  },
  {
   "cell_type": "markdown",
   "metadata": {},
   "source": [
    "### 2. METAVISION IV dose started before and ended within interval"
   ]
  },
  {
   "cell_type": "code",
   "execution_count": null,
   "metadata": {},
   "outputs": [],
   "source": [
    "# IV dose started before interval and ended within interval\n",
    "total_IV_before <- interval_times_dt %>% left_join(MV_input, allow.cartesian = TRUE) %>% group_by(subject_id, icustay_id, hadm_id, interval_start_time, interval_end_time) %>%\n",
    "                   filter(starttime < interval_start_time & endtime > interval_start_time & endtime <= interval_end_time) \n",
    "\n",
    "all_IV_before <- total_IV_before %>% mutate(total_amount_before = as.numeric(difftime(endtime, interval_start_time, units='mins')) * (amount/duration))\n",
    "\n",
    "all_IV_before <- all_IV_before %>% select(subject_id, icustay_id, hadm_id, interval_start_time, interval_end_time, total_amount_before) %>% \n",
    "                                   group_by(subject_id, icustay_id, hadm_id, interval_start_time ,interval_end_time) %>% \n",
    "                                   summarise(total_amount = sum(total_amount_before))\n"
   ]
  },
  {
   "cell_type": "markdown",
   "metadata": {},
   "source": [
    "### 3. METAVISION IV dose started within interval and ended within interval"
   ]
  },
  {
   "cell_type": "code",
   "execution_count": null,
   "metadata": {},
   "outputs": [],
   "source": [
    "# IV dose started within the interval and ended within the interval\n",
    "all_IV_within <- interval_times_dt %>% left_join(MV_input, allow.cartesian = TRUE) %>% group_by(subject_id, icustay_id, hadm_id, interval_start_time, interval_end_time) %>%\n",
    "                 filter(starttime >= interval_start_time & starttime < interval_end_time & endtime <= interval_end_time & endtime > interval_start_time) %>%\n",
    "                 summarise(total_amount = sum(amount))"
   ]
  },
  {
   "cell_type": "markdown",
   "metadata": {},
   "source": [
    "### 4. METAVISION IV Dose started within interval and ended after interval"
   ]
  },
  {
   "cell_type": "code",
   "execution_count": null,
   "metadata": {},
   "outputs": [],
   "source": [
    "# IV dose started within interval and ended after interval\n",
    "total_IV_after <- interval_times_dt %>% left_join(MV_input, allow.cartesian = TRUE) %>% group_by(subject_id, icustay_id, hadm_id, interval_start_time, interval_end_time) %>%\n",
    "                   filter(starttime > interval_start_time & starttime < interval_end_time & endtime > interval_end_time) \n",
    "\n",
    "all_IV_after <- total_IV_after %>% mutate(total_amount_after = round((as.numeric(difftime(interval_end_time, starttime, units='mins'))/duration)*(amount/duration),3))\n",
    "\n",
    "all_IV_after <- all_IV_after %>% select(subject_id, icustay_id, hadm_id, interval_start_time, interval_end_time, total_amount_after) %>% \n",
    "                                 group_by(subject_id, icustay_id, hadm_id, interval_start_time,interval_end_time) %>% \n",
    "                                 summarise(total_amount = sum(total_amount_after))"
   ]
  },
  {
   "cell_type": "code",
   "execution_count": null,
   "metadata": {},
   "outputs": [],
   "source": [
    "summary(all_IV_before$total_amount)\n",
    "summary(all_IV_within$total_amount)\n",
    "summary(all_IV_after$total_amount)\n",
    "summary(all_IV_during$total_amount)"
   ]
  },
  {
   "cell_type": "markdown",
   "metadata": {},
   "source": [
    "### 5. Join all METAVISION IV tables"
   ]
  },
  {
   "cell_type": "code",
   "execution_count": null,
   "metadata": {},
   "outputs": [],
   "source": [
    "# full join all IV tables\n",
    "total_IV <- all_IV_during %>% full_join(all_IV_before) %>% \n",
    "                                full_join(all_IV_within) %>% \n",
    "                                full_join(all_IV_after) %>% \n",
    "                                group_by(subject_id, icustay_id, hadm_id, interval_start_time, interval_end_time) %>%\n",
    "                                summarise(total_amount = sum(total_amount))\n",
    "\n"
   ]
  },
  {
   "cell_type": "markdown",
   "metadata": {},
   "source": [
    "#### 6. Create QUARTILES actions for the IV fluid dose BASED ON MV ONLY!!! as these are more consistent"
   ]
  },
  {
   "cell_type": "code",
   "execution_count": null,
   "metadata": {},
   "outputs": [],
   "source": [
    "#create quartile \n",
    "MV_IV_Fluids = num2quartile(total_IV$total_amount)\n"
   ]
  },
  {
   "cell_type": "markdown",
   "metadata": {},
   "source": [
    "#### Merge Metavision and CareVue fluids"
   ]
  },
  {
   "cell_type": "code",
   "execution_count": null,
   "metadata": {},
   "outputs": [],
   "source": [
    "# Map to discrete IV states\n",
    "temp_IV <- total_IV_cv %>% \n",
    "  full_join(total_IV) %>%\n",
    "  filter(!is.na(total_amount))\n",
    "\n",
    "# merge vasopressor with interval_times (essentialy adds empty interval times that were left out in the initial max_vasopressor_mv join)\n",
    "action_df_IV <- temp_IV %>% right_join(interval_times_df) %>% \n",
    "                group_by(subject_id, hadm_id, icustay_id, interval_start_time, interval_end_time) %>% \n",
    "                summarise(total_amount = sum(total_amount)) \n"
   ]
  },
  {
   "cell_type": "code",
   "execution_count": null,
   "metadata": {},
   "outputs": [],
   "source": [
    "### add action MIMIC\n",
    "# this is for 4 hours\n",
    "#ivbreak = c(-Inf,0.0000,   100.0000 ,  291.8409 ,  752.4806, Inf) # 4hour setting include gastro\n",
    " ivbreak = c(-Inf,0 ,   50 ,  217 ,  700, Inf) \n",
    "\n",
    "\n",
    "action_df_IV$discrete_IV <- as.integer(cut(action_df_IV$total_amount, breaks = ivbreak))-1 \n",
    "\n",
    "# Change NA to zero's\n",
    "action_df_IV$total_amount[is.na(action_df_IV$total_amount)] <- 0\n",
    "action_df_IV$discrete_IV[is.na(action_df_IV$discrete_IV)] <- 0\n",
    "\n",
    "# Visual inspection\n",
    "head(action_df_IV,2)\n",
    "nrow(action_df_IV)\n",
    "\n",
    "action_df <- action_df_IV %>% full_join(action_df_VP)\n",
    "# Get the final state as discrete_IV + 5 * discrete_pressor\n",
    "action_df <- action_df %>% mutate(discrete_action = discrete_IV + 5 * discrete_VP)\n",
    "action_df <- action_df %>% rename(total_IV = total_amount, max_VP = max_amount)\n",
    "head(action_df)\n",
    "table(action_df$discrete_action)"
   ]
  },
  {
   "cell_type": "code",
   "execution_count": null,
   "metadata": {},
   "outputs": [],
   "source": [
    "#add cummulative IV \n",
    "# Add running total\n",
    "action_df <- action_df %>% group_by(icustay_id) %>% \n",
    "                arrange(subject_id,hadm_id,icustay_id,interval_start_time, interval_end_time) %>% \n",
    "                mutate(Running_total_IV = cumsum(total_IV))\n",
    "# check first:\n",
    "table(action_df_IV$discrete_IV)\n",
    "table(action_df_VP$discrete_VP)"
   ]
  },
  {
   "cell_type": "code",
   "execution_count": null,
   "metadata": {},
   "outputs": [],
   "source": [
    "#write action output ( the quartile change if  used gastro intake)\n",
    "write_csv(action_df, paste0(outdir, 'action_df.csv')) \n",
    "write_csv(interval_times_df, paste0(outdir, 'interval_times_df.csv'))"
   ]
  },
  {
   "cell_type": "code",
   "execution_count": null,
   "metadata": {},
   "outputs": [],
   "source": [
    "dim(interval_times_df)\n",
    "head(interval_times_df,2)\n",
    "dim(action_df)\n",
    "head(action_df,2)"
   ]
  },
  {
   "cell_type": "markdown",
   "metadata": {},
   "source": [
    "### Process Vitals"
   ]
  },
  {
   "cell_type": "code",
   "execution_count": null,
   "metadata": {},
   "outputs": [],
   "source": [
    "\n",
    "### import vitals data\n",
    "vitals_df <- read_csv(paste0(sqldir, 'vitals_cohort.csv'), \n",
    "                      col_types=cols())\n",
    "\n",
    "# Cast to DataTable\n",
    "vitals_dt <- as.data.table(vitals_df, key = 'icustay_id')\n",
    "\n",
    "#read intervals \n",
    "interval_times_df = read_csv(paste0(outdir, 'interval_times_df.csv'), \n",
    "                      col_types=cols())\n",
    "\n",
    "interval_times_dt <- as.data.table(interval_times_df, key = 'icustay_id')\n",
    "\n",
    "# Assign vital signs to the corresponding interval times\n",
    "merged_vitals <- interval_times_dt %>% \n",
    "                    merge(vitals_dt, allow.cartesian = TRUE)\n",
    "\n",
    "# take the mean vital sign for each interval time\n",
    "mean_vitals <- merged_vitals[charttime > interval_start_time & charttime <= interval_end_time,\n",
    "                                   .(mean_vital = mean(valuenum)), by = .(subject_id, \n",
    "                                                                          hadm_id, \n",
    "                                                                          icustay_id, \n",
    "                                                                          interval_start_time, \n",
    "                                                                          interval_end_time, \n",
    "                                                                          vital_id)]\n",
    "# visual check merged vitals\n",
    "head(mean_vitals,2)\n",
    "\n"
   ]
  },
  {
   "cell_type": "markdown",
   "metadata": {},
   "source": [
    "### Process Labs"
   ]
  },
  {
   "cell_type": "code",
   "execution_count": null,
   "metadata": {},
   "outputs": [],
   "source": [
    "########################\n",
    "# load the labs data\n",
    "labs_dt <- read_csv(paste0(sqldir, 'labs_cohort.csv'), \n",
    "                    col_types=cols())\n",
    "labs_dt <- as.data.table(labs_dt, key = 'icustay_id')\n",
    "\n",
    "# visual check\n",
    "head(labs_dt,2)\n",
    "\n",
    "# Assign lab value to the corresponding interval times\n",
    "merged_labs <- interval_times_dt %>% \n",
    "                    merge(labs_dt, allow.cartesian = TRUE)\n",
    "\n",
    "# take the mean lab value for each interval time\n",
    "mean_labs <- merged_labs[charttime > interval_start_time & charttime <= interval_end_time,\n",
    "                                   .(mean_lab = mean(valuenum)), by = .(subject_id, \n",
    "                                                                          hadm_id, \n",
    "                                                                          icustay_id, \n",
    "                                                                          interval_start_time, \n",
    "                                                                          interval_end_time, \n",
    "                                                                          lab_id)]\n",
    "# visual check merged labs\n",
    "head(mean_labs,2)"
   ]
  },
  {
   "cell_type": "markdown",
   "metadata": {},
   "source": [
    "### Merge Labs and Vitals"
   ]
  },
  {
   "cell_type": "code",
   "execution_count": null,
   "metadata": {},
   "outputs": [],
   "source": [
    "########################\n",
    "### Merge Labs and Vitals\n",
    "\n",
    "# make it pretty\n",
    "mean_labs <- mean_labs %>% rename(meas_id = lab_id, mean_value = mean_lab)\n",
    "mean_vitals <- mean_vitals %>% rename(meas_id = vital_id, mean_value = mean_vital)\n",
    "\n",
    "# Join tables\n",
    "mean_labs_vitals <- mean_labs %>% full_join(mean_vitals)\n",
    "vitals_labs_spread <- mean_labs_vitals %>% \n",
    "                        spread(meas_id, mean_value) %>% \n",
    "                        right_join(interval_times_dt) \n",
    "\n",
    "# Exclude times in which no measurements were made\n",
    "vitals_labs_spread_filt <- vitals_labs_spread %>%\n",
    "                                gather(lab_id, meas_value, ALBUMIN:WBC) %>%\n",
    "                                group_by(subject_id, hadm_id, icustay_id, interval_start_time, interval_end_time) %>%\n",
    "                                summarise(exclude = all(is.na(meas_value))) %>%\n",
    "                                full_join(vitals_labs_spread) %>%\n",
    "                                filter(!exclude)\n",
    "\n",
    "# visual check of combined vitals and labs spread file (final file)\n",
    "head(vitals_labs_spread_filt,10)"
   ]
  },
  {
   "cell_type": "code",
   "execution_count": null,
   "metadata": {},
   "outputs": [],
   "source": [
    "########################\n",
    "### export data to csv\n",
    "write_csv(vitals_labs_spread_filt, paste0(outdir, 'vitals_labs_spread_filt.csv'))"
   ]
  },
  {
   "cell_type": "code",
   "execution_count": null,
   "metadata": {},
   "outputs": [],
   "source": [
    "dim(vitals_labs_spread_filt)"
   ]
  },
  {
   "cell_type": "code",
   "execution_count": null,
   "metadata": {},
   "outputs": [],
   "source": [
    "# calculate the means of each combination of 'grade' and 'sex' with `group_by`\n",
    "means_lab_measure <- mean_labs %>% group_by(meas_id) %>% \n",
    "   summarise(mean = mean(mean_value))\n",
    "\n",
    "# making the plot\n",
    "ggplot(means_lab_measure, aes(x = meas_id, y = mean)) +\n",
    "    geom_bar(stat = \"identity\", position = \"dodge\")"
   ]
  },
  {
   "cell_type": "code",
   "execution_count": null,
   "metadata": {},
   "outputs": [],
   "source": [
    "# calculate the means of each combination of 'grade' and 'sex' with `group_by`\n",
    "means_vital_measure <- mean_vitals %>% group_by(meas_id) %>% \n",
    "   summarise(mean = mean(mean_value))\n",
    "\n",
    "# making the plot\n",
    "ggplot(means_vital_measure, aes(x = meas_id, y = mean)) +\n",
    "    geom_bar(stat = \"identity\", position = \"dodge\")"
   ]
  },
  {
   "cell_type": "markdown",
   "metadata": {},
   "source": [
    "### Combining Vitals + Lab + FIO2 + UrineOutput and Demographics "
   ]
  },
  {
   "cell_type": "code",
   "execution_count": null,
   "metadata": {},
   "outputs": [],
   "source": [
    "### IMPORT\n",
    "vitals_labs <- read_csv(paste0(outdir, 'vitals_labs_spread_filt.csv'),\n",
    "                       col_types=cols())\n",
    "demographics <- read_csv(paste0(sqldir, 'demographics_cohort.csv'),\n",
    "                        col_types=cols())\n",
    "urine_df <- read_csv(paste0(sqldir, 'UrineOutput_cohort.csv'),\n",
    "                    col_types=cols())\n",
    "interval_times_dt =  read_csv(paste0(outdir, 'interval_times_df.csv'),\n",
    "                       col_types=cols())  \n",
    "interval_times_dt <- as.data.table(interval_times_dt, key = 'icustay_id')\n",
    "                "
   ]
  },
  {
   "cell_type": "code",
   "execution_count": null,
   "metadata": {},
   "outputs": [],
   "source": [
    "# forward fill vital labs measurements \n",
    "# Perform LVCF\n",
    "vitals_labs_lvcf <- vitals_labs %>% group_by(subject_id, hadm_id, icustay_id) %>%\n",
    "                        arrange(subject_id, hadm_id, icustay_id, interval_start_time) %>%\n",
    "                        fill(ALAT:WBC) %>% select(-'<NA>')# ALAT:WBC is based on the on 7th up to 40th collumn corresponding to all the actual features in this dataframe\n",
    "dim(vitals_labs_lvcf)"
   ]
  },
  {
   "cell_type": "markdown",
   "metadata": {},
   "source": [
    "## get urine + cummulative Urine \n"
   ]
  },
  {
   "cell_type": "code",
   "execution_count": null,
   "metadata": {},
   "outputs": [],
   "source": [
    "### get urine data  and calculate cummulative \n",
    "# load the urine output data\n",
    "urine_df <- read_csv(paste0(sqldir, 'UrineOutput_cohort.csv'),\n",
    "                    col_types=cols())\n",
    "urine_dt <- as.data.table(urine_df, key = 'icustay_id') %>% filter(value<5000 & value>0)\n",
    "\n",
    "# Merge with interval times\n",
    "merged_urine <- interval_times_dt %>% merge(urine_dt, allow.cartesian = TRUE)\n",
    "\n",
    "# MERGE WITH MEAN() + Keep only 'real value' (urine production within interval times)\n",
    "total_urine_df <- merged_urine[charttime > interval_start_time & charttime <= interval_end_time,\n",
    "                         .(total_UP = sum(value)), by = .(subject_id,hadm_id,icustay_id, \n",
    "                                                           interval_start_time, \n",
    "                                                           interval_end_time)]"
   ]
  },
  {
   "cell_type": "markdown",
   "metadata": {},
   "source": [
    "### Get FiO2 and forward fill"
   ]
  },
  {
   "cell_type": "code",
   "execution_count": null,
   "metadata": {},
   "outputs": [],
   "source": [
    "### get FiO2\n",
    "# load the urine output data\n",
    "fio2_dt <- read_csv(paste0(sqldir, 'FiO2_cohort.csv'),\n",
    "                   col_types=cols())\n",
    "fio2_dt <- as.data.table(fio2_dt, key = 'icustay_id')\n",
    "\n",
    "# Merge with interval times\n",
    "merged_fio2 <- interval_times_dt %>% merge(fio2_dt, allow.cartesian = TRUE)\n",
    "\n",
    "# MERGE WITH MEAN() + Keep only 'real value' (urine production within interval times)\n",
    "total_fio2_df <- merged_fio2[charttime > interval_start_time & charttime <= interval_end_time,\n",
    "                         .(FiO2 = mean(fio2)), by = .(subject_id,hadm_id,icustay_id, \n",
    "                                                           interval_start_time, \n",
    "                                                           interval_end_time)]\n"
   ]
  },
  {
   "cell_type": "code",
   "execution_count": null,
   "metadata": {},
   "outputs": [],
   "source": [
    "total_fio2_df <- total_fio2_df %>% right_join(interval_times_dt) %>%  group_by(subject_id,hadm_id,\n",
    "                                                        icustay_id,interval_start_time, interval_end_time)\n",
    "\n",
    "total_fio2_df <- total_fio2_df %>% group_by(subject_id, hadm_id, icustay_id) %>%\n",
    "                        arrange(subject_id, hadm_id, icustay_id, interval_start_time) %>%\n",
    "                        fill(FiO2)\n",
    "\n",
    "# visual check\n",
    "dim(total_fio2_df)\n",
    "dim(interval_times_dt)"
   ]
  },
  {
   "cell_type": "code",
   "execution_count": null,
   "metadata": {},
   "outputs": [],
   "source": [
    "head(total_fio2_df, 18)"
   ]
  },
  {
   "cell_type": "markdown",
   "metadata": {},
   "source": [
    "#fill missing FiO2 with mean \n",
    "total_fio2_df <- total_fio2_df %>% group_by(icustay_id) %>%\n",
    "                mutate(FiO2=ifelse(is.na(FiO2),mean(FiO2,na.rm=TRUE),FiO2))\n",
    "## remove where total fio2 was still missing as those patients does not have records\n",
    "total_fio2_df = total_fio2_df[!is.na(total_fio2_df$FiO2), ]\n",
    "dim(total_fio2_df)"
   ]
  },
  {
   "cell_type": "markdown",
   "metadata": {},
   "source": [
    "### Join FiO2 with Vitals "
   ]
  },
  {
   "cell_type": "code",
   "execution_count": null,
   "metadata": {},
   "outputs": [],
   "source": [
    "vitals_labs_fio2  = vitals_labs_lvcf %>% left_join(total_fio2_df) %>% ungroup()\n",
    "dim(vitals_labs_fio2)\n",
    "length(table(vitals_labs_fio2$icustay_id))\n",
    "head(vitals_labs_fio2,18)"
   ]
  },
  {
   "cell_type": "markdown",
   "metadata": {},
   "source": [
    "### Join Urine with FiO2 + Vitals "
   ]
  },
  {
   "cell_type": "code",
   "execution_count": null,
   "metadata": {},
   "outputs": [],
   "source": [
    "vitals_labs_fio2_up  = vitals_labs_fio2 %>% left_join(total_urine_df) %>% ungroup()\n",
    "dim(vitals_labs_fio2_up)\n",
    "length(table(vitals_labs_fio2_up$icustay_id))\n",
    "#### first imppute \n",
    "vitals_labs_fio2_up = vitals_labs_fio2_up %>% group_by(subject_id,hadm_id,icustay_id) %>%replace_na(list(total_UP = 0))\n",
    "# add running total\n",
    "vitals_labs_fio2_up <- vitals_labs_fio2_up %>% \n",
    "group_by(subject_id,hadm_id,icustay_id) %>% \n",
    "arrange(subject_id,hadm_id,icustay_id, interval_start_time, interval_end_time) %>%\n",
    "mutate(Running_total_UP = cumsum(total_UP))"
   ]
  },
  {
   "cell_type": "code",
   "execution_count": null,
   "metadata": {},
   "outputs": [],
   "source": [
    "head(vitals_labs_fio2_up, 6)"
   ]
  },
  {
   "cell_type": "markdown",
   "metadata": {},
   "source": [
    "### Join Vital + Lab + Urine + FiO2  with Demographics"
   ]
  },
  {
   "cell_type": "code",
   "execution_count": null,
   "metadata": {},
   "outputs": [],
   "source": [
    "vitals_labs_fio2_up_demo = vitals_labs_fio2_up  %>% \n",
    "                        left_join(demographics) %>% \n",
    "                        ungroup()\n",
    "dim(vitals_labs_fio2_up_demo)"
   ]
  },
  {
   "cell_type": "code",
   "execution_count": null,
   "metadata": {},
   "outputs": [],
   "source": [
    "head(vitals_labs_fio2_up_demo)"
   ]
  },
  {
   "cell_type": "code",
   "execution_count": null,
   "metadata": {},
   "outputs": [],
   "source": [
    "write_csv(vitals_labs_fio2_up_demo, paste0(outdir, 'vitals_labs_fio2_up_demo.csv'))"
   ]
  },
  {
   "cell_type": "code",
   "execution_count": null,
   "metadata": {},
   "outputs": [],
   "source": [
    "# IMPORT DATA\n",
    "action_df <- read_csv(paste0(outdir, 'action_df.csv'),\n",
    "                      col_types=cols())\n",
    "cohort_df <- read_csv(paste0(sqldir, 'cohort.csv'),\n",
    "                      col_types=cols())\n",
    "alldata_df = vitals_labs_fio2_up_demo\n",
    "\n",
    "########################\n",
    "### Merge all data\n",
    "outcome_df <- cohort_df %>% group_by(subject_id, \n",
    "                                     hadm_id, \n",
    "                                     icustay_id)\n",
    "\n",
    "########################\n",
    "### Combine vitals and labs (data_all.csv) with actions (action_df.csv) and cohort (cohort.csv: only for discharge[0=alive])\n",
    "alldata_df_action <- alldata_df %>% inner_join(select(action_df, subject_id, \n",
    "                                                      hadm_id, \n",
    "                                                      icustay_id, \n",
    "                                                      interval_start_time, \n",
    "                                                      interval_end_time,\n",
    "                                                      discrete_action,\n",
    "                                                      total_IV,\n",
    "                                                      Running_total_IV,\n",
    "                                                      max_VP,\n",
    "                                                      median_vaso_dose,\n",
    "                                                      discrete_IV, discrete_VP)) %>%\n",
    "  inner_join(select(cohort_df, subject_id, hadm_id, \n",
    "  icustay_id, hospital_expire_flag ))"
   ]
  },
  {
   "cell_type": "code",
   "execution_count": null,
   "metadata": {},
   "outputs": [],
   "source": [
    "head(alldata_df_action)"
   ]
  },
  {
   "cell_type": "markdown",
   "metadata": {},
   "source": [
    "### Add sparse rewards"
   ]
  },
  {
   "cell_type": "code",
   "execution_count": null,
   "metadata": {},
   "outputs": [],
   "source": [
    "## add reward to the data \n",
    "########################\n",
    "### Add final reward and zeros for intermediate reward\n",
    "temp_alldata <- alldata_df_action %>% group_by(subject_id, \n",
    "                                               hadm_id, \n",
    "                                               icustay_id,\n",
    "                                               hospital_expire_flag) %>%\n",
    "  summarise(interval_start_time = max(interval_start_time)) %>%\n",
    "  mutate(reward = ifelse(hospital_expire_flag, -15, 15))\n",
    "\n",
    "# add \"intermediate reward\" to dataset (all 'NA' rewards are set to 0)\n",
    "temp_alldata_action_reward <- alldata_df_action %>% \n",
    "  left_join(temp_alldata) %>%\n",
    "  replace_na(list(reward = 0))"
   ]
  },
  {
   "cell_type": "markdown",
   "metadata": {},
   "source": [
    "### for time series total_IV and max_VP Action shift (lag one state behind current state)"
   ]
  },
  {
   "cell_type": "code",
   "execution_count": null,
   "metadata": {},
   "outputs": [],
   "source": [
    "final_df_all = temp_alldata_action_reward %>% \n",
    "        group_by(icustay_id) %>% \n",
    "        mutate(total_IV_prev = lag(total_IV,order_by=icustay_id)) %>% \n",
    "        mutate(total_IV_prev = replace_na(total_IV_prev, 0)) %>%\n",
    "        ungroup()\n",
    "\n",
    "final_df_all = temp_alldata_action_reward %>% \n",
    "        group_by(icustay_id) %>%\n",
    "        mutate(max_VP_prev = lag(max_VP,order_by=icustay_id)) %>% \n",
    "        mutate(max_VP_prev = replace_na(max_VP_prev, 0)) %>%\n",
    "        ungroup()"
   ]
  },
  {
   "cell_type": "markdown",
   "metadata": {},
   "source": [
    "#### Rename some of the columns "
   ]
  },
  {
   "cell_type": "code",
   "execution_count": null,
   "metadata": {},
   "outputs": [],
   "source": [
    "MIMIC_all = final_df_all %>%  rename(discrete_action = discrete_action) %>%             # MIMIC action   to ICV action   (no conversion needed) \n",
    "                                rename(max_VP = max_VP) %>%                               # MIMIC action   to ICV action   (no conversion needed) \n",
    "                                rename(total_IV = total_IV) %>%                           # MIMIC action   to ICV action   (no conversion needed) \n",
    "                                rename(Discharge = hospital_expire_flag) %>%              # MIMIC 1=death  to ICV 1=death  (no conversion needed) \n",
    "                                rename(Reward = reward) %>%                               # MIMIC score    to ICV score    (no conversion needed) \n",
    "                                rename(Sirs_score = sirs) %>%                             # MIMIC score    to ICV score    | ICV admission | MIMIC -> sepsis3.sql (onset)\n",
    "                                rename(Sofa_score = sofa) %>%                             # MIMIC score    to ICV score    | ICV admission | MIMIC -> sepsis3.sql (onset)\n",
    "                                rename(Weight = weight) %>%                               # MIMIC kg       to ICV kg       | ICV admission | MIMIC -> sepsis3.sql (onset)\n",
    "                                rename(Ventilator = vent) %>%                             # MIMIC 0/1      to ICV 0/1      | (-2 to +24h)  | MIMIC -> sepsis3.sql (-4 to +24h)\n",
    "                                rename(Height = height) %>%                               # MIMIC cm       to ICV cm       (no conversion needed)\n",
    "                                rename(Age = age) %>%                                     # MIMIC years    to ICV years    (no conversion needed)\n",
    "                                rename(Gender = is_male) %>%                              # MIMIC male=1   to ICV male=1   (no conversion needed)\n",
    "                                rename(HeartRate = HeartRate) %>%                         # MIMIC /min     to ICV /min     (no conversion needed) \n",
    "                                rename(Temp = TempC) %>%                                  # MIMIC Celcius  to ICV Celcius  (no conversion needed) \n",
    "                                rename(MAP = MeanBP) %>%                                  # MIMIC mmHg     to ICV mmHg     (no conversion needed) \n",
    "                                rename(DIA = DiasBP) %>%                                  # MIMIC mmHg     to ICV mmHg     (no conversion needed) \n",
    "                                rename(SYS = SysBP) %>%                                   # MIMIC mmHg     to ICV mmHg     (no conversion needed) \n",
    "                                rename(RespRate = RespRate) %>%                           # MIMIC /min     to ICV /min     (no conversion needed) \n",
    "                                rename(SpO2 = SpO2) %>%                                   # MIMIC %        to ICV %        (no conversion needed) \n",
    "                                rename(Natrium = SODIUM) %>%                              # MIMIC mEq/L    to ICV mmol/L   (no conversion needed) \n",
    "                                rename(Chloride = CHLORIDE) %>%                           # MIMIC mEq/L    to ICV mmol/L   (no conversion needed)\n",
    "                                rename(Kalium = POTASSIUM) %>%                            # MIMIC mEq/L    to ICV mmol/L   (no conversion needed) \n",
    "                                rename(Trombo = PLATELET) %>%                             # MIMIC k/ul     to ICV 10^9/L   (no conversion needed) \n",
    "                                rename(LEU = WBC) %>%                                     # MIMIC K/uL     to ICV 10e^9/L  (no conversion needed)\n",
    "                                rename(ANION_GAP = 'ANION GAP') %>%                       # MIMIC mEq/L    to ICV mmol/l   (no conversion needed)\n",
    "                                rename(APTT = PTT) %>%                                    # MIMIC sec      to ICV sec      (no conversion needed)\n",
    "                                rename(Art_PH = PH) %>%                                   # MIMIC geen     to ICV geen     (no conversion needed)\n",
    "                                rename(ASAT = ASAT) %>%                                   # MIMIC IU/L     to ICV IE/L     (no conversion needed)\n",
    "                                rename(ALAT = ALAT) %>%                                   # MIMIC IU/L     to ICV IE/L     (no conversion needed)\n",
    "                                rename(Bicarbonaat = BICARBONATE) %>%                     # MIMIC mEq/L    to ICV mmol/L   (no conversion needed)\n",
    "                                rename(Art_BE = BaseExcess) %>%                           # MIMIC mEq/L    to ICV mmol/L   (no conversion needed)\n",
    "                                rename(Ion_Ca = ION_CALCIUM) %>%                          # MIMIC mmol/l   to ICV mmol/L   (no conversion needed)\n",
    "                                rename(Lactate = LACTATE) %>%                             # MIMIC ?        to ICV ?        (no conversion needed)\n",
    "                                rename(PaCO2 = PACO2) %>%                                 # MIMIC mmHg     to ICV mmhg     (ICV SQL file converts Kpa to mmHg values, no further conversion needed)\n",
    "                                rename(PaO2 = PAO2) %>%                                   # MIMIC mmHg     to ICV mmhg     (ICV SQL file converts Kpa to mmHg values, no further conversion needed)\n",
    "                                mutate(Shock_Index = HeartRate / SYS) %>%                 # MIMIC score    to ICV score    (calculation of score) \n",
    "                                mutate(HB = HEMOGLOBIN * 0.6206) %>%                      # MIMIC g/dL     to ICV mmol/l   (http://www.scymed.com/en/smnxpf/pfxdq210_c.htm)\n",
    "                                mutate(Bili = BILIRUBIN * (1/0.05847953)) %>%             # MIMIC mg/dl    to ICV umol/L   (http://www.endmemo.com/medical/unitconvert/Bilirubin.php)\n",
    "                                mutate(Creat = CREATININE * (1/0.01131222)) %>%           # MIMIC mg/dl    to ICV umol/l   (http://www.endmemo.com/medical/unitconvert/Creatinine.php)\n",
    "                                mutate(INR = PT/12) %>%                                   # MIMIC sec      to ICV INR      (normal_PT~12)\n",
    "                                mutate(Ureum = BUN * 0.3571) %>%                          # MIMIC mg/dL    to ICV mmol/L   (http://www.scymed.com/en/smnxps/psxff047_c.htm)\n",
    "                                mutate(Albumine = ALBUMIN * 10) %>%                       # MIMIC g/dL     to ICV g/L      (simple conversion)\n",
    "                                mutate(Magnesium = MAGNESIUM * 0.411) %>%                 # MIMIC mg/dl    to ICV mmol/l   (http://www.endmemo.com/medical/unitconvert/Magnesium.php)\n",
    "                                mutate(Calcium = CALCIUM * 0.25) %>%                      # MIMIC mg/dl    to ICV mmol/L   (http://www.endmemo.com/medical/unitconvert/Calcium.php)\n",
    "                                mutate(PF_ratio = PaO2 / FiO2) %>%\n",
    "                                rename(glucose = Glucose) %>% \n",
    "                                       mutate(glutemp = rowMeans(data.frame(GLUCOSE, glucose),na.rm = TRUE)) %>% \n",
    "                                       mutate(Glucose = glutemp * 0.0555) %>%             # MIMIC mg/dL    to ICV mmol/l   (http://www.endmemo.com/medical/unitconvert/Glucose.php)\n",
    "                                select(-ALBUMIN, -CALCIUM, - CREATININE, -glucose, \n",
    "                                       -GLUCOSE, -glutemp, -BUN, -MAGNESIUM, \n",
    "                                       -HEMOGLOBIN, -BILIRUBIN,- PT)   "
   ]
  },
  {
   "cell_type": "code",
   "execution_count": null,
   "metadata": {},
   "outputs": [],
   "source": [
    "dim(MIMIC_all)"
   ]
  },
  {
   "cell_type": "code",
   "execution_count": null,
   "metadata": {},
   "outputs": [],
   "source": [
    "head(MIMIC_all)"
   ]
  },
  {
   "cell_type": "code",
   "execution_count": null,
   "metadata": {},
   "outputs": [],
   "source": [
    "MIMIC_all = MIMIC_all[,c(names(MIMIC_all)[1:5],sort(colnames(MIMIC_all[6:ncol(MIMIC_all)] )))]\n",
    "print(names(MIMIC_all))\n",
    "head(MIMIC_all,5)"
   ]
  },
  {
   "cell_type": "markdown",
   "metadata": {},
   "source": [
    "### Add information related to datasource"
   ]
  },
  {
   "cell_type": "code",
   "execution_count": null,
   "metadata": {},
   "outputs": [],
   "source": [
    "sepsis_df <- read_csv(paste0(sqldir, 'sepsis3-df-no-exclusions.csv'),\n",
    "                     col_types=cols()) %>% select(icustay_id, dbsource, composite_outcome)"
   ]
  },
  {
   "cell_type": "code",
   "execution_count": null,
   "metadata": {},
   "outputs": [],
   "source": [
    "### Combine data with admission source\n",
    "MIMIC_all <- MIMIC_all %>% left_join(sepsis_df)\n",
    "summary(as.factor(MIMIC_all$dbsource))"
   ]
  },
  {
   "cell_type": "code",
   "execution_count": null,
   "metadata": {},
   "outputs": [],
   "source": [
    "head(MIMIC_all)"
   ]
  },
  {
   "cell_type": "code",
   "execution_count": null,
   "metadata": {},
   "outputs": [],
   "source": [
    "#total patients\n",
    "length(table(MIMIC_all$icustay_id))"
   ]
  },
  {
   "cell_type": "code",
   "execution_count": null,
   "metadata": {},
   "outputs": [],
   "source": [
    "########################\n",
    "### export data to csv ( This is Raw file and contains missing values)\n",
    "write_csv(MIMIC_all, paste0(outdir, 'MIMIC_data.csv'))   ### Most Important file"
   ]
  },
  {
   "cell_type": "markdown",
   "metadata": {},
   "source": [
    "###  Preprocessing For Metavision Data Only"
   ]
  },
  {
   "cell_type": "code",
   "execution_count": null,
   "metadata": {},
   "outputs": [],
   "source": [
    "MIMIC_MV = MIMIC_all %>% filter(dbsource == 'metavision') %>% select(-dbsource)\n",
    "head(MIMIC_MV,1)\n",
    "dim(MIMIC_MV)\n",
    "\n",
    "########################\n",
    "### export data to csv\n",
    "write_csv(MIMIC_MV, paste0(outdir, 'MIMIC_MVdata.csv'))"
   ]
  },
  {
   "cell_type": "code",
   "execution_count": null,
   "metadata": {},
   "outputs": [],
   "source": [
    "colnames(MIMIC_MV)"
   ]
  },
  {
   "cell_type": "markdown",
   "metadata": {},
   "source": [
    "### Visual Checks"
   ]
  },
  {
   "cell_type": "code",
   "execution_count": null,
   "metadata": {},
   "outputs": [],
   "source": [
    "## Required packages\n",
    "library(ggplot2)\n",
    "library(RColorBrewer)\n",
    "library(colorRamps)\n",
    "## You need to expand palette size\n",
    "colourCount = 21 # number of actions\n",
    "getPalette = colorRampPalette(brewer.pal(9, \"Set2\"))\n",
    "long_colors = colorRampPalette(brewer.pal(12, \"Spectral\"))(colourCount)\n",
    "\n",
    "# plot\n",
    "ggplot( MIMIC_MV, aes(total_IV, max_VP, color = as.factor(discrete_action))) + \n",
    "        geom_point() + scale_color_manual(values = long_colors) + \n",
    "        scale_y_log10(limits = c(0.01,10)) + \n",
    "        scale_x_log10(limits = c(0.01,10000), labels = scales::comma) +\n",
    "        ggtitle(\"Fluids (IV) vs Vasopressor dose Quartile bins\") + \n",
    "        theme(legend.position=\"none\") + \n",
    "        labs(subtitle=\"MIMIC Metavision dataset\",y = \"Max VP Dose (ugram/min)\",x = \"Total IV fluid (mL)\",caption=\"X and Y Axis on log10 scale\") "
   ]
  },
  {
   "cell_type": "markdown",
   "metadata": {},
   "source": [
    "#### Getting Sick Patients based on Sofa"
   ]
  },
  {
   "cell_type": "code",
   "execution_count": null,
   "metadata": {},
   "outputs": [],
   "source": [
    "# Apply IV fluid filter\n",
    "sick_MIMIC <- MIMIC_MV %>% group_by(icustay_id) %>%\n",
    "                        filter(interval_start_time == max(interval_start_time)) %>%\n",
    "                        summarise(END_total_IV = max(Running_total_IV)) %>%\n",
    "                        filter(END_total_IV > 100) %>%\n",
    "                        filter(END_total_IV < 40000)\n",
    "\n",
    "# Apply SOFA filter\n",
    "sofa_MIMIC <- MIMIC_MV %>% group_by(icustay_id) %>%\n",
    "                        summarise(SOFA = mean(Sofa_score, na.rm = TRUE)) %>%\n",
    "                        filter(SOFA>3)\n",
    "\n",
    "# Join filters\n",
    "filt_MIMIC = sofa_MIMIC # sick_MIMIC %>% inner_join(sofa_MIMIC) %>% group_by(PatientID)\n",
    "\n",
    "# inspect filtered dataset\n",
    "length(unique(MIMIC_MV$icustay_id))\n",
    "nrow(filt_MIMIC)\n",
    "summary(filt_MIMIC)\n",
    "\n",
    "# apply filters and create new dataset from subset of MIMIC data \n",
    "filt_MIMIC_dataset <- MIMIC_MV %>% filter (icustay_id %in% c(filt_MIMIC$icustay_id))\n",
    "\n",
    "########################\n",
    "### export data to csv\n",
    "write_csv(filt_MIMIC_dataset, paste0(outdir, 'MIMIC_MVsick_data.csv'))\n",
    "#this is mimic file of sick patients"
   ]
  },
  {
   "cell_type": "code",
   "execution_count": null,
   "metadata": {},
   "outputs": [],
   "source": [
    "## Required packages\n",
    "library(ggplot2)\n",
    "library(RColorBrewer)\n",
    "library(colorRamps)\n",
    "\n",
    "\n",
    "## You need to expand palette size\n",
    "colourCount = 21 # number of actions\n",
    "getPalette = colorRampPalette(brewer.pal(9, \"Set2\"))\n",
    "long_colors = colorRampPalette(brewer.pal(12, \"Spectral\"))(colourCount)\n",
    "\n",
    "# plot\n",
    "ggplot( filt_MIMIC_dataset, aes(total_IV, max_VP, color = as.factor(discrete_action))) + \n",
    "        geom_point() + scale_color_manual(values = long_colors) + \n",
    "        scale_y_log10(limits = c(0.01,10)) + \n",
    "        scale_x_log10(limits = c(0.01,10000), labels = scales::comma) +\n",
    "        ggtitle(\"Fluids (IV) vs Vasopressor dose Quartile bins\") + \n",
    "        theme(legend.position=\"none\") + \n",
    "        labs(subtitle=\"MIMIC Metavision SOFA>3 dataset\",y = \"Max VP Dose (ugram/min)\",x = \"Total IV fluid (mL)\",caption=\"X and Y Axis on log10 scale\") "
   ]
  },
  {
   "cell_type": "code",
   "execution_count": null,
   "metadata": {},
   "outputs": [],
   "source": [
    "cat('Analysis Finished for time window', outdir)\n"
   ]
  },
  {
   "cell_type": "code",
   "execution_count": null,
   "metadata": {},
   "outputs": [],
   "source": [
    "colnames(MIMIC_all)"
   ]
  },
  {
   "cell_type": "markdown",
   "metadata": {},
   "source": [
    "#### Data Cleaning Part From all Samples ( Carevyue + MIMIC)"
   ]
  },
  {
   "cell_type": "code",
   "execution_count": null,
   "metadata": {},
   "outputs": [],
   "source": [
    "library(tidyverse)\n",
    "library(data.table)\n",
    "datadir = '../processed_data/fourhour/'\n"
   ]
  },
  {
   "cell_type": "code",
   "execution_count": null,
   "metadata": {},
   "outputs": [],
   "source": [
    "MIMIC_all = read_csv(paste0(datadir, 'MIMIC_data.csv'),  col_types = cols())"
   ]
  },
  {
   "cell_type": "markdown",
   "metadata": {},
   "source": [
    "### I noticed there is no total IV prevcreated \n",
    "final_df_all = temp_alldata_action_reward %>% \n",
    "        group_by(icustay_id) %>% \n",
    "        mutate(total_IV_prev = lag(total_IV,order_by=icustay_id)) %>% \n",
    "        mutate(total_IV_prev = replace_na(total_IV_prev, 0)) %>%\n",
    "        ungroup()"
   ]
  },
  {
   "cell_type": "code",
   "execution_count": null,
   "metadata": {},
   "outputs": [],
   "source": [
    "#add total_IV_prev to the data \n",
    "MIMIC_all= MIMIC_all %>% \n",
    "        group_by(icustay_id) %>% \n",
    "        mutate(total_IV_prev = lag(total_IV,order_by=icustay_id)) %>% \n",
    "        mutate(total_IV_prev = replace_na(total_IV_prev, 0)) %>%\n",
    "        ungroup()"
   ]
  },
  {
   "cell_type": "code",
   "execution_count": null,
   "metadata": {},
   "outputs": [],
   "source": [
    "colnames((MIMIC_all))"
   ]
  },
  {
   "cell_type": "code",
   "execution_count": null,
   "metadata": {},
   "outputs": [],
   "source": [
    "write_csv(MIMIC_all, paste0(datadir, 'MIMIC_data.csv')) "
   ]
  },
  {
   "cell_type": "markdown",
   "metadata": {},
   "source": [
    "## This is missing in MV as well so rewrite MV "
   ]
  },
  {
   "cell_type": "code",
   "execution_count": null,
   "metadata": {},
   "outputs": [],
   "source": [
    "library(tidyverse)\n",
    "datadir = '../processed_data/fourhour/'\n",
    "MIMIC_all =  read_csv(paste0(datadir, 'MIMIC_data.csv'), col_types=cols())"
   ]
  },
  {
   "cell_type": "code",
   "execution_count": null,
   "metadata": {},
   "outputs": [],
   "source": [
    "MIMIC_MV = MIMIC_all %>% filter(dbsource == 'metavision') %>% select(-dbsource)\n",
    "head(MIMIC_MV,1)\n",
    "dim(MIMIC_MV)\n",
    "colnames(MIMIC_MV)\n",
    "\n",
    "########################\n",
    "### export data to csv\n",
    "write_csv(MIMIC_MV, paste0(datadir, 'MIMIC_MVdata.csv'))"
   ]
  }
 ],
 "metadata": {
  "interpreter": {
   "hash": "8270cd401a84d3c4c6241c70f3e5789fbca298200bfaa21e0774d0fcec4d21ee"
  },
  "kernelspec": {
   "display_name": "R",
   "language": "R",
   "name": "ir"
  },
  "language_info": {
   "codemirror_mode": "r",
   "file_extension": ".r",
   "mimetype": "text/x-r-source",
   "name": "R",
   "pygments_lexer": "r",
   "version": "3.6.1"
  },
  "orig_nbformat": 4
 },
 "nbformat": 4,
 "nbformat_minor": 2
}
